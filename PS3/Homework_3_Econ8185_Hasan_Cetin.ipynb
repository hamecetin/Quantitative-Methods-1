{
 "cells": [
  {
   "cell_type": "code",
   "execution_count": 2,
   "metadata": {},
   "outputs": [],
   "source": [
    "%matplotlib inline\n",
    "\n",
    "import matplotlib.pyplot as plt\n",
    "import numpy as np"
   ]
  },
  {
   "cell_type": "markdown",
   "metadata": {},
   "source": [
    "## Homework 3\n",
    "\n",
    "\n",
    "#### Hasan Cetin\n",
    "\n",
    "<hr />"
   ]
  },
  {
   "cell_type": "markdown",
   "metadata": {},
   "source": [
    "## The Problem\n",
    "\n",
    "Assume that the utility function is the one that we have used in the HW 2: $u(c_t, h_t) = ln(c_t) + \\psi ln(1-h_t)$. Let's write down the maximization problem of the economy with distortions:\n",
    "\n",
    "$$\\max_{c_t, h_t} \\mathbb{E}_0 \\sum_{t = 0}^{\\infty} \\hat \\beta^t [ln(c_t) + \\psi ln(1-h_t)] $$\n",
    "$$\\text{s.t. } c_t  =  \\frac{1}{1 + \\tau_{ct}} [r_t k_t + w_t h_t + T_t - \\tau_{ht} w_th_t - \\tau_{pt}(r_tk_t - \\delta k_t) - x_t -\\tau_{dt}(r_tk_t - x_t - \\tau_{pt}(r_tk_t - \\delta k_t))]$$\n",
    "$$x_t = (1+ \\gamma_n)k_{t+1} - (1-\\delta)k_t$$\n",
    "$$ 0 \\leq h_t \\leq 1$$\n",
    "$$\\hat \\beta^t = ((1+\\gamma_n)\\beta)^t$$\n",
    "$$S_t = PS_{t-1} + Q \\epsilon_{t}$$\n",
    "$$c_t,x_t \\geq 0$$\n",
    "\n",
    "where: $S_t = \\begin{bmatrix}ln(z_t) \\\\ \\tau_{ct} \\\\ \\tau_{ht} \\\\ \\tau_{dt} \\\\ \\tau_{pt} \\\\ ln(g_t) \\end{bmatrix}$ is the vector of exogenous state variables.\n",
    "\n",
    "Note that in this model, the state and control vectors will be the following:\n",
    "\n",
    "- State vector: $X_t := \\begin{bmatrix} 1 \\\\ k_t  \\\\ ln(z_t) \\\\ \\tau_{ct} \\\\ \\tau_{ht} \\\\ \\tau_{dt} \\\\ \\tau_{pt} \\\\ ln(g_t)  \\\\ K_t \\\\ H_t \\\\ T_t \\end{bmatrix}_{11x1}$\n",
    "\n",
    "- Control vector: $u_t := \\begin{bmatrix} k_{t+1} \\\\ h_t \\end{bmatrix}_{2x1}$ where:\n",
    "    \n",
    "    - $k_t$: Per capita individual capital stock \n",
    "    - $h_t$: Per capita individual hours worked\n",
    "    - $z_t$: Efficiency shock/wedge\n",
    "    - $\\tau_{ct}$: Consumption tax/wedge\n",
    "    - $\\tau_{ht}$: Labor income tax/wedge\n",
    "    - $\\tau_{pt}$: Profit tax/wedge\n",
    "    - $\\tau_{dt}$: Dividend tax/wedge\n",
    "    - $g_t$: Per capita government consumption/wedge\n",
    "    - $K_t$: Aggregate capital stock\n",
    "    - $H_t$: Aggregate hours worked\n",
    "    - $T_t$: Transfer payments (Lump-sum)"
   ]
  },
  {
   "cell_type": "markdown",
   "metadata": {},
   "source": [
    "#### Our Strategy\n",
    "\n",
    "We'll do more or less the same analysis that we did in Homework 2. (And in Homework 2 we did more or less the same analysis that we did in Homework 1). Here are the steps:\n",
    "\n",
    "- Step 1: Calculate the non-stochastic steady state\n",
    "- Step 2: Take second order Taylor approximation around the steady state to calculate R,Q,W\n",
    "- Step 3: If the resource constraint is not linear, make it linear by taking first order Taylor approximation and eventually get A,B,C\n",
    "- Step 4: Calculate P and F using Ricatti Equation"
   ]
  },
  {
   "cell_type": "markdown",
   "metadata": {},
   "source": [
    "## The Non-Stochastic Steady State\n"
   ]
  },
  {
   "cell_type": "markdown",
   "metadata": {},
   "source": [
    "Assume in steady state the exogenous state variables have the following steady state values:\n",
    "\n",
    "$$S_{ss} = \\begin{bmatrix}ln(z_{ss}) = 0 \\\\ \\tau_{c_{ss}} = 0 \\\\ \\tau_{h_{ss}} = 0\\\\ \\tau_{d_{ss}} = 0\\\\ \\tau_{p_{ss}} = 0 \\\\ ln(g_{ss}) = ln(\\bar g)\\end{bmatrix}$$\n",
    "\n",
    "Note that if $\\bar g = 0$ then we have the same steady state variables for consumption, capital and labor as what we calculated in Homework 2.\n",
    "\n",
    "Then let's write down the planner's problem to solve for steady state values:\n",
    "\n",
    "$$\\max_{c_t, h_t} \\mathbb{E}_0 \\sum_{t = 0}^{\\infty} \\hat \\beta^t [ln(c_t) + \\psi ln(1-h_t)] $$\n",
    "$$\\text{s.t. }[\\lambda_t]\\;\\; c_t  =  \\left[r_t k_t + w_t h_t + T_t  - [(1+ \\gamma_n)k_{t+1} - (1-\\delta)k_t] \\right] \\; \\; \\forall t$$\n",
    "$$\\hat \\beta^t = \\beta^t (1+\\gamma_n)^t$$\n",
    "\n",
    "First, note that this problem is written in per capita terms (everything is divided by $N_t$) for simplicity.\n",
    "Secondly, note that since we assumed that $\\bar g \\not = 0$, we put $T_t$ in the budget constraint to have government budget balance.\n",
    "\n",
    "Household First order conditions:\n",
    "\n",
    "$$[c_t]: \\;\\;\\; \\hat \\beta^t \\dfrac{1}{c_t} = \\lambda_t$$\n",
    "$$[h_t]: \\;\\;\\; \\hat \\beta^t \\dfrac{\\psi}{1-h_t} = \\lambda_t w_t h_t$$\n",
    "$$[k_{t+1}]: \\;\\;\\; \\lambda_t (1+\\gamma_n) = \\lambda_{t+1}[(1-\\delta)+r_{t+1}]$$\n",
    "\n",
    "Now, the firm's problem is:\n",
    "\n",
    "$$\\max_{K_t^f,H_t^f} {K_t^f}^\\theta {H_t^f}^{1-\\theta} - r_t K_t^f - w_t H_t^f$$\n",
    "\n",
    "To make the firm problem in per capita terms, divide everything by $N_t$ as well:\n",
    "\n",
    "$$\\max_{k_t^f,h_t^f} {k_t^f}^\\theta {h_t^f}^{1-\\theta} - r_t k_t^f - w_t h_t^f$$\n",
    "\n",
    "Then firm's First order condition:\n",
    "\n",
    "$$[k_t^f]: \\;\\;\\; r_t = \\theta \\dfrac{{k_t^f}^\\theta {h_t^f}^{1-\\theta}}{k_t^f} = \\theta \\dfrac{y_t}{k_t}$$\n",
    "$$[h_t^f]: \\;\\;\\; w_t = (1-\\theta) \\dfrac{{k_t^f}^\\theta {h_t^f}^{1-\\theta}}{h_t^f} = (1-\\theta)\\dfrac{y_t}{h_t}$$\n",
    "\n",
    "where $y_t$ is the per capita production of the firm.\n",
    "\n",
    "Then, from market clearing, we have:\n",
    "\n",
    "$$k_t = k_t^f$$\n",
    "$$h_t = h_t^f$$\n",
    "\n",
    "And finally, government budget balance holds:\n",
    "\n",
    "$$T_t = -g_t$$"
   ]
  },
  {
   "cell_type": "markdown",
   "metadata": {},
   "source": [
    "Now let's make some algebraic [$\\mathbb{ABRACADABRA}$'s](https://www.youtube.com/watch?v=tY8B0uQpwZs):\n",
    "\n",
    "$$\\lambda_t (1+\\gamma_n) = \\lambda_{t+1}[(1-\\delta)+r_{t+1}]$$\n",
    "$$\\hat \\beta^t \\dfrac{1}{c_t} (1+\\gamma_n) = \\hat \\beta^{t+1} \\dfrac{1}{c_{t+1}}[(1-\\delta)+\\theta \\dfrac{{k_t}^\\theta h_t^{1-\\theta}}{k_t}]$$\n",
    "\n",
    "Then in steady state: (erase all subscript t's and $c_t = c_{t+1}$)\n",
    "\n",
    "$$\\dfrac{1}{\\beta} = (1-\\delta) + \\theta \\dfrac{k^\\theta h^{1-\\theta}}{k}$$\n",
    "\n",
    "$$\\dfrac{h}{k} = \\underbrace{\\left[\\frac{1}{\\theta}\\left[\\frac{1}{\\beta} - (1-\\delta)\\right]\\right]^{\\frac{1}{1-\\theta}}}_{\\Lambda_1}$$\n",
    "\n",
    "Also, combining BC, HH FOC, and MC, we have: \n",
    "\n",
    "$$c = (1-\\delta - (1+\\gamma_n))k + k^\\theta h^{1-\\theta} - g_{ss}$$\n",
    "\n",
    "From the intratemporal condition:\n",
    "\n",
    "$$\\psi \\dfrac{c}{1-h} = \\underbrace{(1-\\theta) \\dfrac{k^\\theta h^{1-\\theta}}{h}}_{\\equiv w_{ss}}$$\n",
    "$$\\psi \\dfrac{c}{1-h} = (1-\\theta) \\Lambda_1^{-\\theta}$$\n",
    "\n",
    "Now, for simplicity, assume that the steady state of government spending is a constant fraction of the production:\n",
    "\n",
    "$$g_{ss} = \\phi y$$\n",
    "\n",
    "Then:\n",
    "\n",
    "$$c = (1-\\phi)k^\\theta h^{1-\\theta} - (\\delta + \\gamma_n)k$$\n",
    "$$c = \\underbrace{[(1-\\phi)\\Lambda_1^{1-\\theta} - (\\delta + \\gamma_n)]}_{\\Lambda_2}k$$\n",
    "$$c = \\Lambda_2 k$$\n",
    "\n",
    "Then, we have:\n",
    "$$\\psi \\dfrac{c}{1-h} = (1-\\theta) \\Lambda_1^{-\\theta}$$\n",
    "$$\\psi \\Lambda_2 k = (1-\\theta) \\Lambda_1^{-\\theta}(1-h)$$\n",
    "$$\\psi \\Lambda_2 k = (1-\\theta) \\Lambda_1^{-\\theta} - (1-\\theta) \\Lambda_1^{-\\theta} \\underbrace{h}_{\\Lambda_1 k} $$\n",
    "$$k\\left[\\psi \\Lambda_2 + (1-\\theta)\\Lambda_1^{1-\\theta}\\right] = (1-\\theta)\\Lambda_1^{-\\theta}$$\n",
    "$$k = \\dfrac{(1-\\theta)\\Lambda_1^{-\\theta}}{\\left[\\psi \\Lambda_2 + (1-\\theta)\\Lambda_1^{1-\\theta}\\right]}$$\n",
    "\n",
    "Therefore the steady states are:\n",
    "\n",
    "- $\\Lambda_1 = \\left[\\frac{1}{\\theta}\\left[\\frac{1}{\\beta} - (1-\\delta)\\right]\\right]^{\\frac{1}{1-\\theta}}$\n",
    "- $\\Lambda_2 = [(1-\\phi)\\Lambda_1^{1-\\theta} - (\\delta + \\gamma_n)]$\n",
    "- $k_{ss}=  \\dfrac{(1-\\theta)\\Lambda_1^{-\\theta}}{\\left[\\psi \\Lambda_2 + (1-\\theta)\\Lambda_1^{1-\\theta}\\right]}$\n",
    "- $h_{ss} = \\Lambda_1 k_{ss}$\n",
    "- $c_{ss} = \\Lambda_2 k_{ss}$\n",
    "- $l_{ss} = 1 - h_{ss}$\n",
    "- $g_{ss} = \\phi k_{ss}^\\theta h_{ss}^{1-\\theta}$\n",
    "- $w_{ss} = (1-\\theta) \\dfrac{k_{ss}^\\theta h_{ss}^{1-\\theta}}{h_{ss}}$\n",
    "- $r_{ss} = \\theta \\dfrac{k_{ss}^\\theta h_{ss}^{1-\\theta}}{k_{ss}}$\n",
    "- $T_{ss} = -g_{ss}$"
   ]
  },
  {
   "cell_type": "markdown",
   "metadata": {},
   "source": [
    "## The Parameters\n",
    "\n",
    "I will use the following parameters:\n",
    "\n",
    "- $\\psi = 0.3$\n",
    "- $\\delta = 0.8$\n",
    "- $\\theta = 0.6$\n",
    "- $\\beta = 0.9$\n",
    "- $\\phi = 0.01$\n",
    "- $\\rho,\\rho_c,\\rho_h,\\rho_d,\\rho_p = 0.9$"
   ]
  },
  {
   "cell_type": "markdown",
   "metadata": {},
   "source": [
    "## Getting R,Q,W\n",
    "\n",
    "Now that we have found the steady state, we can take second order Taylor approximation of the return function around the steady state. Note that, from the budget constraint, we have:\n",
    "\n",
    "$$c_t  =  \\frac{1}{1 + \\tau_{ct}} \\left[r_t k_t + w_t h_t + T_t - \\tau_{ht} w_th_t - \\tau_{pt}(r_tk_t - \\delta k_t) - [(1+ \\gamma_n)k_{t+1} - (1-\\delta)k_t] -\\tau_{dt}(r_tk_t - [(1+ \\gamma_n)k_{t+1} - (1-\\delta)k_t] - \\tau_{pt}(r_tk_t - \\delta k_t)) \\right]$$\n",
    "$$ =  \\frac{1}{1 + \\tau_{ct}} \\left[r_t(k_t -\\tau_{pt}k_t - \\tau_{dt}(k_t - \\tau_{pt}k_t)) + w_t(h_t - \\tau_{ht}h_t) + T_t + \\tau_{pt}δk_t + \\tau_{dt}[(1+γ_n)k_{t+1} - (1-\\delta)k_t -\\tau_{pt}δk_t]  \\right]$$\n",
    "where: $w_t = (1-α)\\dfrac{Y_t}{H_t},\\;\\; r_t = α\\dfrac{Y_t}{K_t}, \\;\\; y_t = K_t^α (z_t H_t)^{1-α}$\n",
    "\n",
    "This means:\n",
    "\n",
    "$$c_t =  \\frac{1}{1+\\tau_{ct}}\\left[ α\\frac{Y_t k_t}{K_t}[(1-\\tau_{dt})(1-\\tau_{pt})] + (1-α)\\frac{Y_t h_t}{H_t}[1-\\tau_{ht}] + T_t + \\tau_{pt}[δk_t] + \\tau_{dt}[(1+γ_n)k_{t+1} - (1-δ)k_t - \\tau_{pt}(δk_t)]\\right]$$\n",
    "\n",
    "Thus, we can get rid of $r_t, w_t$ and can write consumption c as a function of state and control variables. This enables us to take Taylor approximation of the objective return function around the steady state.\n",
    "\n",
    "Note that our return function is the following:\n",
    "\n",
    "$$r(X_t, u_t) = r( k_t, ln(z_t), \\tau_{ct},\\tau_{ht},\\tau_{dt}, \\tau_{pt}, ln(g_t), K_t, H_t, T_t, k_{t+1}, h_t)$$\n",
    "$$= log( \\frac{1}{1+\\tau_{ct}}\\left[ α\\frac{Y_t k_t}{K_t}[(1-\\tau_{dt})(1-\\tau_{pt})] + (1-α)\\frac{Y_t h_t}{H_t}[1-\\tau_{ht}] + T_t + \\tau_{pt}[δk_t] + \\tau_{dt}[(1+γ_n)k_{t+1} - (1-δ)k_t - \\tau_{pt}(δk_t)]\\right]) + \\psi log(1-h_t)$$\n",
    "\n",
    "Now, define:  **normalized around steady state**:\n",
    "\n",
    "state variables as: $ \\tilde x_t = \\begin{bmatrix} X_t - X_{ss}\\end{bmatrix}_{11x1} =  x_t - \\bar x\\;\\;\\;$; and the control variables as: $ \\tilde u_t = \\begin{bmatrix} k_{t+1} - k_{ss} \\\\ h_t - h_{ss} \\end{bmatrix}_{2x1}\\; = u_t - \\bar u$.\n",
    "\n",
    "Then second order Taylor approximation of the one-period return function around the steady state, $\\bar x, \\bar u$ is:\n",
    "\n",
    "$$r(x_t, u_t)  \\simeq \\dfrac{1}{2} \\begin{bmatrix} \\tilde x_t & \\tilde u_t\\end{bmatrix}_{1x13} \\begin{bmatrix} 2 r(\\bar x, \\bar u) & J_r^T \\\\ J_r & H_r\\end{bmatrix}_{13x13} \\begin{bmatrix} \\tilde x_t \\\\ \\tilde u_t\\end{bmatrix}_{13x1}$$\n",
    "\n",
    "Where $J_r$ is Jacobian of the return function at the steady state, $H_r$ is the Hessian of the return function at the steady state, $r(\\bar x, \\bar u)$ is the return function evaluated at the steady state.\n",
    "\n",
    "Then we can also write down the same equation as:\n",
    "\n",
    "$$r(x_t, u_t) \\simeq \\begin{bmatrix} \\tilde x_t & \\tilde u_t\\end{bmatrix}_{1x13} \\begin{bmatrix} Q_{11x11} & W_{11x2} \\\\ W^T_{2x11} & R_{2x2}\\end{bmatrix}_{13x13} \\begin{bmatrix} \\tilde x_t \\\\ \\tilde u_t\\end{bmatrix}_{13x1}$$\n",
    "\n",
    "**(don't forget to multiply the middle matrix with $\\dfrac{1}{2}$)**\n",
    "\n"
   ]
  },
  {
   "cell_type": "markdown",
   "metadata": {},
   "source": [
    "## Getting A,B,C\n",
    "\n",
    "Finally, we need to get A,B,C to form a linear law of motion of the state vector $X_t$. If we can find these matrices as well, then we are done.\n",
    "\n",
    "Remember, the state vector is $X_t := \\begin{bmatrix} 1 \\\\ k_t \\\\ ln(z_t) \\\\ \\tau_{ct} \\\\ \\tau_{ht} \\\\ \\tau_{dt} \\\\ \\tau_{pt} \\\\ ln(g_t)  \\\\ K_t \\\\ H_t \\\\ T_t \\end{bmatrix}_{11x1}$ (i.e. I will write down the A, B, C according to this order of the state variables)\n",
    "\n",
    "$$X_{t+1} = A X_t + B u_t + C ϵ_{t+1}$$\n",
    "\n",
    "$$\\begin{bmatrix} 1 \\\\ k_{t+1}  \\\\ ln(z_{t+1}) \\\\ \\tau_{ct+1} \\\\ \\tau_{ht+1} \\\\ \\tau_{dt+1} \\\\ \\tau_{pt+1} \\\\ ln(g_{t+1})  \\\\ K_{t+1} \\\\ H_{t+1} \\\\ T_{t+1} \\end{bmatrix}_{11x1} = \n",
    "\n",
    "\\underbrace{\\begin{bmatrix}\n",
    "1 & 0 & 0 & 0 & 0 & 0 & 0 & 0 & 0 & 0 & 0 \\\\\n",
    "0 & 0 & 0 & 0 & 0 & 0 & 0 & 0 & 0 & 0 & 0 \\\\\n",
    "0 & 0 & ρ & 0 & 0 & 0 & 0 & 0 & 0 & 0 & 0 \\\\\n",
    "0 & 0 & 0 & ρ_c & 0 & 0 & 0 & 0 & 0 & 0 & 0 \\\\\n",
    "0 & 0 & 0 & 0 & ρ_h & 0 & 0 & 0 & 0 & 0 & 0 \\\\\n",
    "0 & 0 & 0 & 0 & 0 & ρ_d & 0 & 0 & 0 & 0 & 0 \\\\\n",
    "0 & 0 & 0 & 0 & 0 & 0 & ρ_p & 0 & 0 & 0 & 0 \\\\\n",
    "0 & 0 & 0 & 0 & 0 & 0 & 0 & ρ_g & 0 & 0 & 0 \\\\\n",
    "0 & 0 & ? & ? & ? & ? & ? & ? & ? & ? & ? \\\\\n",
    "0 & 0 & ? & ? & ? & ? & ? & ? & ? & ? & ? \\\\\n",
    "0 & 0 & ? & ? & ? & ? & ? & ? & ? & ? & ? \\\\\n",
    "\\end{bmatrix}}_{A}\n",
    "\n",
    "\\begin{bmatrix} 1 \\\\ k_{t}  \\\\ ln(z_t) \\\\ \\tau_{ct} \\\\ \\tau_{ht} \\\\ \\tau_{dt} \\\\ \\tau_{pt} \\\\ ln(g_t)  \\\\ K_t \\\\ H_t \\\\ T_t \\end{bmatrix}_{11x1}\n",
    "\n",
    "+ \n",
    "\n",
    "\\underbrace{\\begin{bmatrix}\n",
    "0 & 0 \\\\\n",
    "1 & 0 \\\\\n",
    "0 & 0 \\\\\n",
    "0 & 0 \\\\\n",
    "0 & 0 \\\\\n",
    "0 & 0 \\\\\n",
    "0 & 0 \\\\\n",
    "0 & 0 \\\\\n",
    "0 & 0 \\\\\n",
    "0 & 0 \\\\\n",
    "0 & 0 \\\\\n",
    "\\end{bmatrix}}_{B} \n",
    "\n",
    "\\begin{bmatrix}\n",
    "k_{t+1}\\\\\n",
    "h_{t}\n",
    "\\end{bmatrix}\n",
    "\n",
    "+ C_{11x1} \\epsilon_{t+1}\n",
    "$$\n",
    "\n",
    "\n"
   ]
  },
  {
   "cell_type": "markdown",
   "metadata": {},
   "source": [
    "Let \n",
    "\n",
    "- $X_{1t} = \\begin{bmatrix} 1 \\\\ k_{t}\\end{bmatrix}$: individual states,\n",
    "\n",
    "- $X_{2t} = \\begin{bmatrix} ln(z_t) \\\\ \\tau_{ct} \\\\ \\tau_{ht} \\\\ \\tau_{dt} \\\\ \\tau_{pt} \\\\ ln(g_t)\\end{bmatrix}$: aggregate or exogenous states with **known** law of motion,\n",
    "\n",
    "- $X_{3t} = \\begin{bmatrix} K_t \\\\ H_t \\\\ T_t\\end{bmatrix}$: aggregate or exogenous states with **unknown** law of motion.\n",
    "\n",
    "Define: $y_t = \\begin{bmatrix} X_{1t} \\\\ X_{2t}\\end{bmatrix}$ .\n",
    "\n",
    "Then, define:\n",
    "\n",
    "$$\\tilde A_y = \\sqrt{\\hat \\beta} (A_y - B_y R^{-1}W_y')$$\n",
    "$$\\tilde A_z = \\sqrt{\\hat \\beta} (A_z - B_y R^{-1}W_z')$$\n",
    "$$\\tilde B_y = \\sqrt{\\hat \\beta} B_y$$\n",
    "$$\\tilde Q = Q - WR^{-1}W'$$\n",
    "\n",
    "where, $A_y = A[0:8,0:8]_{8x8},\\; B_y = B[0:8,0:2]_{8x2}, \\;A_z = A[0:8, 8: ]_{8x3},\\; W_y = W[0:8,:]_{8x2},\\; W_z = W[8:,:]_{3x2}$\n",
    "\n",
    "Then we can write down the \"known\" law of motions as:\n",
    "\n",
    "$$\\tilde y_{t+1} = \\tilde A_y \\tilde y_t + \\tilde B_y \\tilde u_t + \\tilde A_z \\tilde X_{3t}$$\n",
    "\n",
    "Now, how do we proceed? We need to impose new information to be able to solve the unknown law of motion.\n",
    "\n",
    "We impose the market clearing condition and we have:\n",
    "\n",
    "$$\\underbrace{\\begin{bmatrix}\n",
    "K_t\\\\\n",
    "H_t\\\\\n",
    "T_t\\\\\n",
    "\\end{bmatrix}}_{[X_{3t}]}\n",
    "\n",
    "= \\underbrace{\\begin{bmatrix}\n",
    "0 & 1 & 0 & 0 & 0 & 0 & 0 & 0\\\\\n",
    "0 & 0 & 0 & 0 & 0 & 0 & 0 & 0 \\\\\n",
    "? & ? & ? & ? & ? & ? & ? & ?\n",
    "\\end{bmatrix}}_{Θ}\n",
    "\n",
    "\\underbrace{\\begin{bmatrix}\n",
    "1 \\\\ k_t \\\\ ln(z_t) \\\\ \\tau_{ct} \\\\ \\tau_{ht} \\\\ \\tau_{dt} \\\\ \\tau_{pt} \\\\ ln(g_t)\n",
    "\\end{bmatrix}}_{[X_{1t}X_{2t}]}\n",
    "+\n",
    "\\underbrace{\\begin{bmatrix} \n",
    "0 & 0 \\\\\n",
    "0 & 1 \\\\\n",
    "? & ?\n",
    "\\end{bmatrix}_{3x2}}_{Ψ}\n",
    "\n",
    "\\underbrace{\\begin{bmatrix}\n",
    "k_{t+1} \\\\\n",
    "h_{t}\n",
    "\\end{bmatrix}}_{u_t}\n",
    "$$\n",
    "\n",
    "Note that we can find ? parameters by solving:\n",
    "\n",
    "$$T_t = \\tau_{ct} c_t + \\tau_{ht}w_th_t + \\tau_{pt}(r_tk_t - δk_t)+ \\tau_{dt}(r_tk_t - \\tau_{pt}(r_tk_t - δk_t)) - g_t$$\n",
    "\n",
    "Substituting $c_t$:\n",
    "\n",
    "$$T_t = \\tau_{ct} \\left[\\frac{1}{1+\\tau_{ct}}\\left[ αK_t^α(z_tH_t)^{1-α}[(1-\\tau_{dt})(1-\\tau_{pt})] + (1-α)K_t^α(z_tH_t)^{1-α}[1-\\tau_{ht}] + T_t + \\tau_{pt}[δk_t] + \\tau_{dt}[(1+γ_n)k_{t+1} - (1-δ)k_t - \\tau_{pt}(δk_t)]\\right]\\right] $$\n",
    "\n",
    "$$+ \\tau_{ht}w_th_t + \\tau_{pt}(r_tk_t - δk_t)+ \\tau_{dt}(r_tk_t - \\tau_{pt}(r_tk_t - δk_t)) - g_t$$\n",
    "\n",
    "Then by market clearing condition:\n",
    "\n",
    "$$T_t = \\tau_{ct} \\left[\\frac{1}{1+\\tau_{ct}}\\left[ αk_t^α(z_th_t)^{1-α}[(1-\\tau_{dt})(1-\\tau_{pt})] + (1-α)k_t^α(z_th_t)^{1-α}[1-\\tau_{ht}] + T_t + \\tau_{pt}[δk_t] + \\tau_{dt}[(1+γ_n)k_{t+1} - (1-δ)k_t - \\tau_{pt}(δk_t)]\\right]\\right] $$\n",
    "\n",
    "$$+ \\tau_{ht}w_th_t + \\tau_{pt}(r_tk_t - δk_t)+ \\tau_{dt}(r_tk_t - \\tau_{pt}(r_tk_t - δk_t)) - g_t$$\n",
    "\n",
    "Putting all $T_t$'s on LHS, we have:\n",
    "\n",
    "$$T_t = \\tau_{ct} \\left[ αk_t^α(z_th_t)^{1-α}[(1-\\tau_{dt})(1-\\tau_{pt})] + (1-α)k_t^α(z_th_t)^{1-α}[1-\\tau_{ht}] + \\tau_{pt}[δk_t] + \\tau_{dt}[(1+γ_n)k_{t+1} - (1-δ)k_t - \\tau_{pt}(δk_t)]\\right]$$\n",
    "\n",
    "$$+ (1+\\tau_{ct}) \\left[\\tau_{ht}w_th_t + \\tau_{pt}(r_tk_t - δk_t)+ \\tau_{dt}(r_tk_t - \\tau_{pt}(r_tk_t - δk_t)) - g_t\\right]$$\n",
    "\n",
    "Since this is non-linear, we will take first order Taylor approximation around the steady state to make it linear. \n",
    "\n",
    "After finding the parameters of T_t as well, we finish constructing $\\Theta$ and $\\Psi$. These were for the level variables. Do the following normalization:\n",
    "\n",
    "\n",
    "\n"
   ]
  },
  {
   "cell_type": "markdown",
   "metadata": {},
   "source": [
    "- $\\tilde \\Theta = (I + \\Psi R^{-1}W_z')^{-1}(\\Theta - \\Psi R^{-1} W_y')$\n",
    "- $\\tilde \\Psi = (I + \\Psi R^{-1}W_z')^{-1} \\Psi$\n",
    "\n",
    "One last $\\mathbb{MAGIC}$ trick:\n",
    "\n",
    "- $\\hat A = \\tilde A_y + \\tilde A_z \\tilde \\Theta$\n",
    "- $\\hat Q = \\tilde Q_y + \\tilde Q_z \\tilde \\Theta$\n",
    "- $\\hat B = \\tilde B_y + \\tilde A_z \\tilde \\Psi$\n",
    "- $\\bar A = \\tilde A_y - \\tilde B_y R^{-1} \\tilde \\Psi' \\tilde Q_z'$"
   ]
  },
  {
   "cell_type": "markdown",
   "metadata": {},
   "source": [
    "Then we can find P and F as follows:\n",
    "\n",
    "#### Solving via Ricatti Equation:\n",
    "\n",
    "- Ricatti Iteration: $P_n = \\hat Q + \\bar A' P_{n+1} \\hat B (R + \\tilde B_{y}' P_{n+1} \\hat B)^{-1}\\tilde B_{y}' P_{n+1} \\hat A$ Iterate it until convergence to find P.\n",
    "- $\\tilde u_t = -\\left[(R + \\tilde B_{y}'P\\hat B)^{-1}\\tilde B_y'P\\hat A \\right]y_t$. The expression in square brackets is F.\n",
    "\n",
    "#### Solving via Vaughns' Method:\n",
    "\n",
    "- After doing the $\\mathbb{MAGIC}$ trick, and putting $\\tilde X_{3t}$ in the first order conditions, we have the following system:\n",
    "\n",
    "$$\n",
    "\\begin{bmatrix} y \\\\ \\lambda \\end{bmatrix}_{t} =\n",
    "\n",
    "\\underbrace{\\begin{bmatrix}\n",
    "\\hat A^{-1} & \\hat A^{-1} \\hat B R^{-1} \\tilde B'_{y} \\\\\n",
    "\n",
    "\\hat Q \\hat A^{-1}  & \\hat Q \\hat A^{-1} \\hat B R^{-1} \\hat B'_{y} + \\bar A'\n",
    "\n",
    "\\end{bmatrix}}_{H}\n",
    "\n",
    "\\begin{bmatrix} y \\\\ \\lambda \\end{bmatrix}_{t+1} \n",
    "$$\n",
    "\n",
    "- Then, as before, $P = V_{21} V_{11}^{-1}$ and $F = (R + \\tilde B_{y}'P\\hat B)^{-1}\\tilde B_y'P\\hat A $\n"
   ]
  },
  {
   "cell_type": "code",
   "execution_count": 26,
   "metadata": {},
   "outputs": [],
   "source": [
    "# functions needed for second order taylor expansion\n",
    "\n",
    "def gradient(h,f,x):\n",
    "    # calculates the gradient of f numerically at point x\n",
    "    # expects f to take in a vector or a number as input\n",
    "    # perturbs each xi by hi\n",
    "    # numer of variables/partial derivatives\n",
    "    #calculate gradient\n",
    "    if type(x) == np.ndarray:\n",
    "        x = x.astype(np.float64)\n",
    "        n = x.size \n",
    "        gradient = np.zeros(n)\n",
    "        for i in range(n):\n",
    "            y = x.copy()\n",
    "            y[i] = x[i] + h[i] # perturb xi\n",
    "            gradient[i] = (f(y) - f(x))/h[i]\n",
    "    else:\n",
    "        n = 1\n",
    "        x = x.astype(np.float64)\n",
    "        gradient = (f((x + h)) - f(x))/h\n",
    "    return gradient\n",
    "    \n",
    "def jacobian(h, f, x):\n",
    "    # calculate the jacobian matrix of f numerically at point x with step size h\n",
    "    # number of variables in argument/partial derivatives\n",
    "    if type(x) == np.ndarray:\n",
    "        n = x.size # numer of variables/partial derivatives\n",
    "    else:\n",
    "        n = 1\n",
    "    # number of functions\n",
    "    if type(f) == np.ndarray:\n",
    "        m = f.size \n",
    "        jdf = np.zeros([m,n], dtype = np.float)\n",
    "        for i in range(m): # for each function\n",
    "            jdf[i,:] = gradient(h,f[i],x) # find gradient\n",
    "    else:\n",
    "        jdf = gradient(h,f,x) \n",
    "    return jdf\n",
    "\n",
    "def hessian(h,f,x):\n",
    "    # calculate the hessian matrix of f numerically at point x with step size h\n",
    "    n = x.size # number of variables in argument/partial derivatives\n",
    "    x = x.astype(np.float64)\n",
    "    hdf = np.zeros((n, n))\n",
    "    gradx = gradient(h,f,x)\n",
    "    for i in range(n):\n",
    "        for j in range(n):\n",
    "            xi = x.copy()\n",
    "            xj = x.copy()\n",
    "            xi[i] = x[i] + h[i] # perturb xi\n",
    "            xj[j] = x[j] + h[j] # perturb xj\n",
    "            gradhi = gradient(h,f,xi)\n",
    "            gradhj = gradient(h,f,xj)\n",
    "            # second derivative based on gradient calls\n",
    "            hdf[i,j] = (gradhj[i] - gradx[i]) / (2*h[j]) + (gradhi[j] - gradx[j]) / (2*h[i])\n",
    "    return hdf\n"
   ]
  },
  {
   "cell_type": "code",
   "execution_count": 162,
   "metadata": {},
   "outputs": [],
   "source": [
    "class LQ:\n",
    "    \"\"\"Our LQ Model\"\"\"\n",
    "\n",
    "    def __init__(self, p=0.9,p_c=0.9,p_h=0.9,p_d=0.9,p_p=0.9, p_g=0.9, δ=0.8, \n",
    "    θ=0.7, β=0.6, γ_n=0.01, ψ=0.3, ϕ = 0.01, tol=10e-4, max_iter=10000):\n",
    "        \n",
    "        \"\"\"Parameters and the steady state initialization\"\"\"\n",
    "       \n",
    "        self.p = p                       # ρ's of the VAR(1) process\n",
    "        self.p_c = p_c\n",
    "        self.p_h = p_h\n",
    "        self.p_d = p_d\n",
    "        self.p_p = p_p\n",
    "        self.p_g = p_g\n",
    "\n",
    "        self.β = β                       # discount factor\n",
    "        self.θ = θ                       # capital share\n",
    "        self.ϕ = ϕ                       # steady state gov. spending share\n",
    "        self.δ = δ                       # depreciation rate of capital\n",
    "        self.ψ = ψ                       # parameter for valuing leisure\n",
    "        self.γ_n = γ_n                   # growth rate of population\n",
    "\n",
    "        self.β_hat = β * (1 + γ_n)       # Normalized beta\n",
    "\n",
    "        self.max_iter = max_iter         # Maximum iteration\n",
    "        self.iterations = 0              # Iteration number of the VFI process\n",
    "        self.tol = tol                   # Tolerance of convergence\n",
    "\n",
    "        # Steady state values\n",
    "        self.Λ_1 = ((1/θ)*(1/β - (1-δ))) **(1/(1-θ))\n",
    "        self.Λ_2 = (1-ϕ)*(self.Λ_1**(1-θ)) - (δ + γ_n)\n",
    "\n",
    "        self.τ_css, self.τ_hss, self.τ_dss, self.τ_pss = 0, 0, 0, 0\n",
    "        self.ln_z_ss = 0\n",
    "        self.ln_k_ss = np.log((1-θ)* (self.Λ_1**(-θ))/(ψ*self.Λ_2 + (1-θ)*(self.Λ_1**(1-θ))))\n",
    "        self.h_ss = self.Λ_1 * np.exp(self.ln_k_ss)\n",
    "        self.c_ss = self.Λ_2 * np.exp(self.ln_k_ss)       \n",
    "        self.y_ss = (np.exp(self.ln_k_ss)**θ) * (self.h_ss)**(1-θ)\n",
    "        self.ln_g_ss = np.log(ϕ * self.y_ss)\n",
    "        self.x_ss = (self.γ_n + δ)*np.exp(self.ln_k_ss)\n",
    "        self.ln_K_ss = self.ln_k_ss\n",
    "        self.H_ss = self.h_ss\n",
    "        self.T_ss = - np.exp(self.ln_g_ss)\n",
    "        \n",
    "        self.w_ss = (1-θ) * (np.exp(self.ln_k_ss)**(θ)*self.h_ss**(1-θ))/self.h_ss\n",
    "        self.r_ss = θ * (np.exp(self.ln_k_ss)**(θ)*self.h_ss**(1-θ))/np.exp(self.ln_k_ss)\n",
    "        \n",
    "\n",
    "        self.Steady_state = np.array([self.ln_k_ss, self.ln_z_ss, self.τ_css, self.τ_hss, self.τ_dss, self.τ_pss,\n",
    "                                     self.ln_g_ss, self.ln_K_ss, self.H_ss, self.T_ss, self.ln_k_ss, self.h_ss]).astype(np.float64)\n",
    "        \n",
    "    def Ret(self, X):\n",
    "        \"\"\"One-period return function\"\"\"\n",
    "        ln_k, ln_z, τ_c, τ_h, τ_d, τ_p, ln_g, ln_K, H, T, ln_k_prime, h = X[0], X[1], X[\n",
    "            2], X[3], X[4], X[5], X[6], X[7], X[8], X[9], X[10], X[11]\n",
    "        Y = np.exp(ln_K)**(self.θ) * (np.exp(ln_z) * H)**(1 - self.θ)\n",
    "        r = self.θ * (Y/np.exp(ln_K))\n",
    "        w = (1-self.θ)*(Y/H)\n",
    "        x = (1+self.γ_n)*np.exp(ln_k_prime) - (1-self.δ)*np.exp(ln_k)\n",
    "\n",
    "        one = r*np.exp(ln_k)*(1-τ_d)*(1-τ_p)\n",
    "        two = w*h*(1-τ_h)\n",
    "        three = T\n",
    "        four = x*(1-τ_d)\n",
    "        five = self.δ * np.exp(ln_k) * (τ_p - τ_d*τ_p)\n",
    "\n",
    "        return np.log((1/(1+τ_c))*(one + two + three - four + five)) + self.ψ * np.log(1 - h) + 0 * np.exp(ln_g)                     \n",
    "\n",
    "    def QRW(self):\n",
    "        \"\"\"Create Jacobian,Hessian matrices and return value at the steady state and create big matrix (to find R,Q,W) correspondingly\"\"\"\n",
    "        \"\"\"Decomposes Big Matrix into R,Q,W and uses law of motinon to find A,B,C as well.\"\"\"\n",
    "        self.Return = np.array(self.Ret(self.Steady_state)).reshape(\n",
    "            (1, 1))  # Return at steady state\n",
    "        self.H = hessian(h=10e-4*np.ones(12), f=self.Ret,\n",
    "                         x=self.Steady_state)  # Hessian\n",
    "        self.J = (gradient(h=10e-4*np.ones(12), f=self.Ret,\n",
    "                          x=self.Steady_state)).reshape(12,1)  # Jacobian\n",
    "\n",
    "\n",
    "        self.M11 = self.Return - np.dot(self.Steady_state,self.J) + 0.5* np.dot(np.dot(self.Steady_state,self.H),self.Steady_state)\n",
    "        self.M12 = 0.5*(self.J - np.dot(self.H,self.Steady_state).reshape(12,1))\n",
    "        self.M22 = 0.5*self.H\n",
    "\n",
    "        self.M1 = np.concatenate((self.M11,self.M12.T),axis=1)\n",
    "        self.M2 = np.concatenate([self.M12,self.M22], axis=1)\n",
    "        #Our big matrix to find Q,R,W\n",
    "        self.big_matrix = np.concatenate((self.M1, self.M2), axis =0)\n",
    "       \n",
    "        # # first_row = np.concatenate([self.Return, self.J]).T\n",
    "        # # rest_of_matrix = np.concatenate([self.J, self.H], axis=1)\n",
    "\n",
    "        self.Q = self.big_matrix[0:11, 0:11]\n",
    "        self.R = self.big_matrix[11:, 11:]\n",
    "        self.W = self.big_matrix[0:11, 11:]\n",
    "\n",
    "    def Transfer_payment(self, X):\n",
    "        \"\"\"Transfer payment's equation with market clearing\"\"\"\n",
    "        k, z, τ_c, τ_h, τ_d, τ_p, g, kp, h = X[0], X[1], X[2], X[3], X[4], X[5], X[6], X[7], X[8]\n",
    "        y =  np.exp(k)**(self.θ)*(np.exp(z)*h)**(1-self.θ)\n",
    "        w =  (1-self.θ) * y/h\n",
    "        r =  (self.θ) * y/np.exp(k)\n",
    "\n",
    "        first = (self.θ* np.exp(k)**(self.θ)*(np.exp(z)*h)**(1-self.θ) * (1-τ_d)*(1-τ_p))\n",
    "        second = (1-self.θ) * np.exp(k)**(self.θ)*(np.exp(z)*h)**(1-self.θ) * (1-τ_h)\n",
    "        third = τ_p * self.δ * np.exp(k) + τ_d * ((1+self.γ_n)* kp - (1-self.δ)*np.exp(k) - τ_p * self.δ * np.exp(k))\n",
    "        \n",
    "        fourth = τ_h * w * h + τ_p * (r*np.exp(k) - self.δ * np.exp(k)) + τ_d * (r*np.exp(k) - τ_p * (r*np.exp(k) - self.δ*np.exp(k))) - np.exp(g)\n",
    "        \n",
    "        return τ_c * (first + second + third) + (1 + τ_c) * (fourth)\n",
    "\n",
    "    def Transfer_taylor(self):\n",
    "        \"\"\" \n",
    "        f(x) = f(a) + (x-a)f'(a) = [f(a) - a f'(a)] + f'(a) x\n",
    "        \n",
    "        So, the parameter of 1 in X_{1t} is f(a) - a f'(a)\n",
    "\n",
    "        All the other variables of X_{1t}, X_{2t} and u_t are f'(a)\n",
    "\n",
    "        \"\"\"\n",
    "        a = np.array([self.ln_k_ss, self.ln_z_ss, self.τ_css, self.τ_hss, self.τ_dss, self.τ_pss, self.ln_g_ss,self.ln_k_ss, self.h_ss]).astype(np.float64)\n",
    "        fp_a = gradient(h=10e-4*np.ones(9), f=self.Transfer_payment, x=a)\n",
    "        \n",
    "        one = np.array(self.Ret(self.Steady_state) - np.dot(a,fp_a))\n",
    "       \n",
    "        Total_params = np.concatenate([one.reshape(1,1), fp_a.reshape(9,1)])\n",
    "\n",
    "        return Total_params[:-2], Total_params[-2:] #First one is the params of X_1t and X_2t variables, second one is the params of u_t\n",
    "\n",
    "\n",
    "    def theta_and_psi(self):\n",
    "        \"\"\"Calculates Ψ and Θ\"\"\"\n",
    "        theta_part, psi_part = self.Transfer_taylor()\n",
    "        \n",
    "        aux = np.zeros((2,8))\n",
    "        aux[0,1] = 1\n",
    "\n",
    "        self.Θ =  np.concatenate([aux,theta_part.reshape(1,8)])\n",
    "\n",
    "        self.Ψ = np.array([[0,0], [0,1], psi_part.reshape(2,)])\n",
    "\n",
    "\n",
    "    def ABC(self):\n",
    "        \"\"\"Calculates everything about A and B in levels\"\"\"\n",
    "        self.W_y = self.W[0:8,:]\n",
    "        self.W_z = self.W[8:,:]\n",
    "\n",
    "        self.A_y = np.array([[1,0,0,0,0,0,0,0],\n",
    "                               [0,0,0,0,0,0,0,0],\n",
    "                               [0,0,self.p,0,0,0,0,0],\n",
    "                               [0,0,0,self.p_c,0,0,0,0],\n",
    "                               [0,0,0,0,self.p_h,0,0,0],\n",
    "                               [0,0,0,0,0,self.p_d,0,0],\n",
    "                               [0,0,0,0,0,0,self.p_p,0],\n",
    "                               [0,0,0,0,0,0,0,self.p_g]])\n",
    "\n",
    "        self.A_z = np.zeros(shape=(8,3))\n",
    "\n",
    "        self.B_y = np.zeros(shape=(8,2))\n",
    "        self.B_y[1,0] = 1\n",
    "\n",
    "\n",
    "    def Normalize(self):\n",
    "        \"\"\"Normalizes everything with magical normalization functions to make all the variables ready for Ricatti equation\"\"\"\n",
    "        W_y, W_z, A_y, A_z, B_y = self.W_y, self.W_z, self.A_y, self.A_z, self.B_y\n",
    "        Θ, Ψ = self.Θ, self.Ψ \n",
    "\n",
    "        self.A_tilde_y = np.sqrt(self.β_hat) * (A_y -\n",
    "                                              B_y @ np.linalg.inv(self.R) @ W_y.T)\n",
    "        \n",
    "        self.A_tilde_z = np.sqrt(self.β_hat) * (A_z -\n",
    "                                              B_y @ np.linalg.inv(self.R) @ W_z.T)\n",
    "\n",
    "        self.B_tilde_y = np.sqrt(self.β_hat) * B_y\n",
    "\n",
    "        self.Q_tilde = self.Q - (self.W @ np.linalg.inv(self.R) @ self.W.T)\n",
    "\n",
    "        self.Q_tilde_y = self.Q_tilde[0:8,0:8]\n",
    "\n",
    "        self.Q_tilde_z = self.Q_tilde[0:8,8:]\n",
    "\n",
    "        self.Θ_tilde = np.dot(np.linalg.inv(np.eye(3)+ np.dot(np.dot(Ψ,np.linalg.inv(self.R)),W_z.T)),(Θ - np.dot(np.dot(Ψ,np.linalg.inv(self.R)),W_y.T)))\n",
    "\n",
    "        self.Ψ_tilde = np.dot(np.linalg.inv(np.eye(3)+ np.dot(np.dot(Ψ,np.linalg.inv(self.R)),W_z.T)),Ψ)\n",
    "    \n",
    "        # MAGIC normalization\n",
    "        self.A_hat = self.A_tilde_y + np.dot(self.A_tilde_z, self.Θ_tilde)\n",
    "        self.Q_hat = self.Q_tilde_y + np.dot(self.Q_tilde_z, self.Θ_tilde)\n",
    "        self.B_hat = self.B_tilde_y + np.dot(self.A_tilde_z, self.Ψ_tilde)\n",
    "        self.A_bar = self.A_tilde_y - self.B_tilde_y @ np.linalg.inv(self.R) @ self.Ψ_tilde.T @ self.Q_tilde_z.T\n",
    "\n",
    "    def convergence(self):\n",
    "        self.QRW()\n",
    "        self.theta_and_psi()\n",
    "        self.ABC()\n",
    "        self.Normalize()\n",
    "        \n",
    "        self.P_0 = np.zeros((8,8))\n",
    "\n",
    "        self.P_1 = np.ones((8, 8))  # To be able to start iteration\n",
    "\n",
    "        #P_0, P_1, Q, A, B, R = self.P_0, self.P_1, self.Q_tilde, self.A_tilde, self.B_tilde, self.R\n",
    "\n",
    "        while np.max(np.abs(self.P_1 - self.P_0) > self.tol) and self.iterations < self.max_iter:\n",
    "            self.P_0 = np.copy(self.P_1)\n",
    "            self.P_1 = self.Q_hat + self.A_bar.T @ self.P_0 @ self.A_hat - self.A_bar.T @ self.P_0 @ self.B_hat @ np.linalg.inv(self.R + self.B_tilde_y.T @ self.P_0 @ self.B_hat ) @ self.B_tilde_y.T @ self.P_0 @ self.A_hat\n",
    "            self.iterations += 1\n",
    "\n",
    "        if self.iterations < self.max_iter:\n",
    "            print(\"Succesfully converged!\")\n",
    "            self.P = np.copy(self.P_1)\n",
    "            self.F = (np.linalg.inv(self.R + self.B_tilde_y.T @ self.P_1 @\n",
    "                  self.B_hat) @ self.B_tilde_y.T @ self.P_1 @ self.A_hat)\n",
    "        else:\n",
    "            print(\"NO CONVERGENCE!!!!!!!!!!!!!!!!!!\")\n",
    "\n",
    "    def Graphics(self):\n",
    "        self.convergence()\n",
    "        fig, ax = plt.subplots(1, 2, figsize=(14, 6))\n",
    "\n",
    "        S1 = np.log(np.linspace(0.95, 1.05, 5))  # Technologies\n",
    "        S2 = np.linspace(0.1, 2.5, 200)  # Capitals\n",
    "\n",
    "        for s1 in range(len(S1)):\n",
    "            values = []\n",
    "            policy_values = []\n",
    "            for s2 in range(len(S2)):\n",
    "                v = np.matmul(np.matmul(np.matrix([1, (S1[s1]) - (self.s1), S2[s2] - self.s2]), self.P), np.matrix(\n",
    "                    [1, (S1[s1]) - (self.s1), S2[s2] - self.s2]).T).item(0)\n",
    "                values.append(v)\n",
    "                k = - np.matmul(self.F + np.matmul(np.linalg.inv(self.R), self.W.T), (np.array(\n",
    "                    [[1], [(S1[s1]) - (self.s1)], [S2[s2] - self.s2]]))).item(0) + self.d1\n",
    "                policy_values.append(k)\n",
    "\n",
    "            ax[0].plot(S2, values, '--',\n",
    "                       label=\"z ={}\".format(np.round(np.exp(S1[s1]), 2)))\n",
    "            ax[0].set_xlabel('k')\n",
    "            ax[0].set_ylabel('V(z,k)')\n",
    "            ax[0].title.set_text('The graph of V(z,k)')\n",
    "            ax[0].legend()\n",
    "\n",
    "            ax[1].plot(S2, policy_values, '--',\n",
    "                       label=\"z ={}\".format(np.round(np.exp(S1[s1]), 2)))\n",
    "            ax[1].set_xlabel('k')\n",
    "            ax[1].set_ylabel(\"k'\")\n",
    "            ax[1].title.set_text('The graph of optimal policy function')\n",
    "            ax[1].axline((0, 0), (S2.max(), S2.max()))\n",
    "            ax[1].legend()\n",
    "\n",
    "        plt.show()\n"
   ]
  },
  {
   "cell_type": "code",
   "execution_count": 163,
   "metadata": {},
   "outputs": [],
   "source": [
    "LQ_model = LQ()"
   ]
  },
  {
   "cell_type": "code",
   "execution_count": 164,
   "metadata": {},
   "outputs": [],
   "source": [
    "LQ_model.QRW()"
   ]
  },
  {
   "cell_type": "code",
   "execution_count": 165,
   "metadata": {},
   "outputs": [],
   "source": [
    "LQ_model.theta_and_psi()"
   ]
  },
  {
   "cell_type": "code",
   "execution_count": 166,
   "metadata": {},
   "outputs": [
    {
     "data": {
      "text/plain": [
       "array([[0., 0.],\n",
       "       [0., 1.],\n",
       "       [0., 0.]])"
      ]
     },
     "execution_count": 166,
     "metadata": {},
     "output_type": "execute_result"
    }
   ],
   "source": [
    "LQ_model.Ψ"
   ]
  },
  {
   "cell_type": "code",
   "execution_count": 167,
   "metadata": {},
   "outputs": [
    {
     "data": {
      "text/plain": [
       "array([[ 0.00000000e+00,  1.00000000e+00,  0.00000000e+00,\n",
       "         0.00000000e+00,  0.00000000e+00,  0.00000000e+00,\n",
       "         0.00000000e+00,  0.00000000e+00],\n",
       "       [ 0.00000000e+00,  0.00000000e+00,  0.00000000e+00,\n",
       "         0.00000000e+00,  0.00000000e+00,  0.00000000e+00,\n",
       "         0.00000000e+00,  0.00000000e+00],\n",
       "       [-3.00392649e+00,  0.00000000e+00,  0.00000000e+00,\n",
       "         1.09912300e-01,  3.33067575e-02,  7.77157676e-02,\n",
       "         3.53253489e-02, -1.11078055e-03]])"
      ]
     },
     "execution_count": 167,
     "metadata": {},
     "output_type": "execute_result"
    }
   ],
   "source": [
    "LQ_model.Θ"
   ]
  },
  {
   "cell_type": "code",
   "execution_count": 169,
   "metadata": {},
   "outputs": [
    {
     "name": "stdout",
     "output_type": "stream",
     "text": [
      "Succesfully converged!\n"
     ]
    }
   ],
   "source": [
    "LQ_model.convergence()"
   ]
  },
  {
   "cell_type": "code",
   "execution_count": 170,
   "metadata": {},
   "outputs": [
    {
     "data": {
      "text/plain": [
       "array([[ 2.52131701e+01,  6.57895546e-01,  4.99548543e-01,\n",
       "        -2.20269209e+00, -1.48111430e+00, -7.04107484e-01,\n",
       "         2.31901390e-01,  1.11580335e-02],\n",
       "       [ 2.94700978e+01,  2.95657474e-03, -1.30594710e-02,\n",
       "        -9.76819646e-01,  9.49715397e-03, -9.86171765e-01,\n",
       "        -4.33010858e-01,  9.87179835e-03],\n",
       "       [ 2.46749366e+01, -1.30547195e-02,  4.23976395e-03,\n",
       "        -7.33873362e-01, -1.44650308e-01, -5.89111093e-01,\n",
       "        -4.64086652e-01,  7.41598058e-03],\n",
       "       [-1.09925191e+00, -2.09265146e-09, -5.84013590e-07,\n",
       "         9.80086891e-01, -9.07934277e-08, -6.62924893e-07,\n",
       "         1.15602889e-07, -2.23487185e-07],\n",
       "       [-2.46996529e+01,  1.27721229e-02, -4.32966949e-03,\n",
       "         7.34548460e-01, -1.77680431e-03,  2.47469260e-01,\n",
       "         1.22475920e-01, -7.42326022e-03],\n",
       "       [-2.56542444e+01, -2.74934255e-03,  1.18569834e-02,\n",
       "         8.75534344e-01, -8.57971432e-03,  3.73379077e-01,\n",
       "         3.87911171e-01, -8.84879142e-03],\n",
       "       [-2.83682103e+01,  1.73581280e-01, -1.46180012e-01,\n",
       "         8.84512849e-01,  5.06721410e-02,  8.33707642e-01,\n",
       "         8.63741726e-02, -8.93886033e-03],\n",
       "       [ 6.55863819e-05, -1.82866940e-09, -5.83817295e-07,\n",
       "        -5.27059615e-07, -9.10552377e-08, -6.62483555e-07,\n",
       "         1.15742280e-07, -2.23484587e-07]])"
      ]
     },
     "execution_count": 170,
     "metadata": {},
     "output_type": "execute_result"
    }
   ],
   "source": [
    "LQ_model.P"
   ]
  },
  {
   "cell_type": "code",
   "execution_count": 143,
   "metadata": {},
   "outputs": [],
   "source": [
    "a = np.array([[1,2],[3,4]])\n",
    "\n",
    "b = np.array([5,6]).reshape(1,2)\n",
    "\n"
   ]
  },
  {
   "cell_type": "code",
   "execution_count": 145,
   "metadata": {},
   "outputs": [
    {
     "data": {
      "text/plain": [
       "array([[1, 2],\n",
       "       [3, 4],\n",
       "       [5, 6]])"
      ]
     },
     "execution_count": 145,
     "metadata": {},
     "output_type": "execute_result"
    }
   ],
   "source": [
    "np.concatenate((a,b), axis=0)"
   ]
  },
  {
   "cell_type": "code",
   "execution_count": 129,
   "metadata": {},
   "outputs": [
    {
     "data": {
      "text/plain": [
       "array([[-2.88102015e+00,  1.22318679e+00,  4.26412414e-01,\n",
       "        -4.99750167e-01, -4.27113525e-01, -6.45131756e-02,\n",
       "        -7.84568895e-02,  0.00000000e+00,  6.12965770e-04,\n",
       "         5.30502310e-04, -2.35434685e-01],\n",
       "       [ 1.22318679e+00, -2.09437902e-01, -1.53514649e-01,\n",
       "         0.00000000e+00,  3.27599704e-01, -3.16686959e-01,\n",
       "         8.38879279e-02,  0.00000000e+00, -1.73957554e-01,\n",
       "         2.78332545e-01, -9.68645015e+00],\n",
       "       [ 4.26412414e-01, -1.53514649e-01, -4.89812753e-02,\n",
       "         0.00000000e+00,  4.90226484e-02, -4.49033140e-02,\n",
       "        -4.29370850e-02,  0.00000000e+00, -1.71516135e-05,\n",
       "        -4.40096848e-05, -3.65487410e+00],\n",
       "       [-4.99750167e-01,  0.00000000e+00,  0.00000000e+00,\n",
       "         4.99001747e-01,  0.00000000e+00, -2.22044605e-10,\n",
       "        -2.22044605e-10,  0.00000000e+00,  0.00000000e+00,\n",
       "        -2.22044605e-10, -2.22044605e-10],\n",
       "       [-4.27113525e-01,  3.27599704e-01,  4.90226484e-02,\n",
       "         0.00000000e+00, -1.23714561e-01, -1.29247101e-01,\n",
       "        -1.31216370e-01,  0.00000000e+00, -1.74115521e-01,\n",
       "         2.78881043e-01,  3.65793491e+00],\n",
       "       [-6.45131756e-02, -3.16686959e-01, -4.49033140e-02,\n",
       "        -2.22044605e-10, -1.29247101e-01, -1.35027058e-01,\n",
       "         1.26845278e-01,  0.00000000e+00,  1.74120774e-01,\n",
       "        -2.78883697e-01,  3.82151785e+00],\n",
       "       [-7.84568895e-02,  8.38879279e-02, -4.29370850e-02,\n",
       "        -2.22044605e-10, -1.31216370e-01,  1.26845278e-01,\n",
       "        -1.39173074e-01,  0.00000000e+00,  1.74122841e-01,\n",
       "        -2.78884137e-01,  3.87974403e+00],\n",
       "       [ 0.00000000e+00,  0.00000000e+00,  0.00000000e+00,\n",
       "         0.00000000e+00,  0.00000000e+00,  0.00000000e+00,\n",
       "         0.00000000e+00,  0.00000000e+00,  0.00000000e+00,\n",
       "         0.00000000e+00,  0.00000000e+00],\n",
       "       [ 6.12965770e-04, -1.73957554e-01, -1.71516135e-05,\n",
       "         0.00000000e+00, -1.74115521e-01,  1.74120774e-01,\n",
       "         1.74122841e-01,  0.00000000e+00,  1.74080835e-01,\n",
       "        -2.78754244e-01, -1.27981581e-03],\n",
       "       [ 5.30502310e-04,  2.78332545e-01, -4.40096848e-05,\n",
       "        -2.22044605e-10,  2.78881043e-01, -2.78883697e-01,\n",
       "        -2.78884137e-01,  0.00000000e+00, -2.78754244e-01,\n",
       "         4.44938892e-01, -3.28389671e-03],\n",
       "       [-2.35434685e-01, -9.68645015e+00, -3.65487410e+00,\n",
       "        -2.22044605e-10,  3.65793491e+00,  3.82151785e+00,\n",
       "         3.87974403e+00,  0.00000000e+00, -1.27981581e-03,\n",
       "        -3.28389671e-03, -1.08168632e+02]])"
      ]
     },
     "execution_count": 129,
     "metadata": {},
     "output_type": "execute_result"
    }
   ],
   "source": [
    "LQ_model.Q"
   ]
  },
  {
   "cell_type": "code",
   "execution_count": 125,
   "metadata": {},
   "outputs": [
    {
     "data": {
      "text/plain": [
       "array([-2.88102015e+00,  1.22318679e+00,  4.26412414e-01, -4.99750167e-01,\n",
       "       -4.27113525e-01, -6.45131756e-02, -7.84568895e-02,  0.00000000e+00,\n",
       "        6.12965770e-04,  5.30502310e-04, -2.35434685e-01, -1.16055748e+00,\n",
       "        1.34712893e+00])"
      ]
     },
     "execution_count": 125,
     "metadata": {},
     "output_type": "execute_result"
    }
   ],
   "source": [
    "LQ_model.big_matrix[0, :]"
   ]
  },
  {
   "cell_type": "code",
   "execution_count": 113,
   "metadata": {},
   "outputs": [
    {
     "data": {
      "text/plain": [
       "(12, 1)"
      ]
     },
     "execution_count": 113,
     "metadata": {},
     "output_type": "execute_result"
    }
   ],
   "source": [
    "LQ_model.M12.shape"
   ]
  },
  {
   "cell_type": "code",
   "execution_count": 108,
   "metadata": {},
   "outputs": [
    {
     "data": {
      "text/plain": [
       "array([[ 2.44637357e+00],\n",
       "       [ 8.52824828e-01],\n",
       "       [-9.99500334e-01],\n",
       "       [-8.54227049e-01],\n",
       "       [-1.29026351e-01],\n",
       "       [-1.56913779e-01],\n",
       "       [ 0.00000000e+00],\n",
       "       [ 1.22593154e-03],\n",
       "       [ 1.06100462e-03],\n",
       "       [-4.70869369e-01],\n",
       "       [-2.32111497e+00],\n",
       "       [ 2.69425787e+00]])"
      ]
     },
     "execution_count": 108,
     "metadata": {},
     "output_type": "execute_result"
    }
   ],
   "source": [
    "LQ_model.J-np.dot(LQ_model.H,LQ_model.Steady_state).reshape(12,1)"
   ]
  },
  {
   "cell_type": "code",
   "execution_count": 100,
   "metadata": {},
   "outputs": [
    {
     "data": {
      "text/plain": [
       "(12, 1)"
      ]
     },
     "execution_count": 100,
     "metadata": {},
     "output_type": "execute_result"
    }
   ],
   "source": [
    "LQ_model.J.shape"
   ]
  },
  {
   "cell_type": "code",
   "execution_count": 102,
   "metadata": {},
   "outputs": [
    {
     "data": {
      "text/plain": [
       "(12,)"
      ]
     },
     "execution_count": 102,
     "metadata": {},
     "output_type": "execute_result"
    }
   ],
   "source": [
    "np.dot(LQ_model.H,LQ_model.Steady_state).shape"
   ]
  },
  {
   "cell_type": "code",
   "execution_count": 94,
   "metadata": {},
   "outputs": [
    {
     "data": {
      "text/plain": [
       "(12, 12, 1)"
      ]
     },
     "execution_count": 94,
     "metadata": {},
     "output_type": "execute_result"
    }
   ],
   "source": [
    "LQ_model.M12.shape"
   ]
  },
  {
   "cell_type": "code",
   "execution_count": 90,
   "metadata": {},
   "outputs": [
    {
     "data": {
      "text/plain": [
       "(12, 12, 1)"
      ]
     },
     "execution_count": 90,
     "metadata": {},
     "output_type": "execute_result"
    }
   ],
   "source": [
    "LQ_model.M12.shape"
   ]
  },
  {
   "cell_type": "code",
   "execution_count": 114,
   "metadata": {},
   "outputs": [],
   "source": [
    "a = np.array([[1,2,3,4], [5,6,7,8]])\n",
    "\n",
    "b = np.array([[1],[0]])"
   ]
  },
  {
   "cell_type": "code",
   "execution_count": 119,
   "metadata": {},
   "outputs": [
    {
     "data": {
      "text/plain": [
       "array([[1, 1, 2, 3, 4],\n",
       "       [0, 5, 6, 7, 8]])"
      ]
     },
     "execution_count": 119,
     "metadata": {},
     "output_type": "execute_result"
    }
   ],
   "source": [
    "np.concatenate((b,a), axis=1)"
   ]
  },
  {
   "cell_type": "code",
   "execution_count": 79,
   "metadata": {},
   "outputs": [
    {
     "data": {
      "text/plain": [
       "(12, 12)"
      ]
     },
     "execution_count": 79,
     "metadata": {},
     "output_type": "execute_result"
    }
   ],
   "source": [
    "LQ_model.M22.shape"
   ]
  },
  {
   "cell_type": "code",
   "execution_count": 64,
   "metadata": {},
   "outputs": [
    {
     "data": {
      "text/plain": [
       "array([-2.93768937e+00,  0.00000000e+00,  0.00000000e+00,  0.00000000e+00,\n",
       "        0.00000000e+00,  0.00000000e+00, -6.80319235e+00, -2.93768937e+00,\n",
       "        6.23671155e-01, -1.11022525e-03, -2.93768937e+00,  6.23671155e-01])"
      ]
     },
     "execution_count": 64,
     "metadata": {},
     "output_type": "execute_result"
    }
   ],
   "source": [
    "LQ_model.Steady_state"
   ]
  },
  {
   "cell_type": "code",
   "execution_count": 42,
   "metadata": {},
   "outputs": [
    {
     "data": {
      "text/plain": [
       "-2.99636963424876"
      ]
     },
     "execution_count": 42,
     "metadata": {},
     "output_type": "execute_result"
    }
   ],
   "source": [
    "LQ_model.Ret(LQ_model.Steady_state)"
   ]
  },
  {
   "cell_type": "code",
   "execution_count": 43,
   "metadata": {},
   "outputs": [],
   "source": [
    "LQ_model.self()"
   ]
  },
  {
   "cell_type": "code",
   "execution_count": 44,
   "metadata": {},
   "outputs": [
    {
     "data": {
      "text/plain": [
       "array([[ 1.31805775e+00],\n",
       "       [ 4.97126137e-01],\n",
       "       [-9.99500333e-01],\n",
       "       [-4.97298774e-01],\n",
       "       [-5.19532297e-01],\n",
       "       [-5.27446043e-01],\n",
       "       [ 0.00000000e+00],\n",
       "       [ 1.74034491e-04],\n",
       "       [ 4.46557514e-04],\n",
       "       [ 1.48168417e+01],\n",
       "       [-7.99589211e-01],\n",
       "       [-1.37860237e-03]])"
      ]
     },
     "execution_count": 44,
     "metadata": {},
     "output_type": "execute_result"
    }
   ],
   "source": [
    "LQ_model.J*2"
   ]
  },
  {
   "cell_type": "code",
   "execution_count": 71,
   "metadata": {},
   "outputs": [
    {
     "ename": "AttributeError",
     "evalue": "'LQ' object has no attribute 'big_matrix'",
     "output_type": "error",
     "traceback": [
      "\u001b[0;31m---------------------------------------------------------------------------\u001b[0m",
      "\u001b[0;31mAttributeError\u001b[0m                            Traceback (most recent call last)",
      "\u001b[1;32m/Users/hamecetin/Documents/GitHub/Quantitative-Methods-1/PS3/Homework_3_Econ8185_Hasan_Cetin.ipynb Cell 21\u001b[0m in \u001b[0;36m<cell line: 1>\u001b[0;34m()\u001b[0m\n\u001b[0;32m----> <a href='vscode-notebook-cell:/Users/hamecetin/Documents/GitHub/Quantitative-Methods-1/PS3/Homework_3_Econ8185_Hasan_Cetin.ipynb#Y162sZmlsZQ%3D%3D?line=0'>1</a>\u001b[0m LQ_model\u001b[39m.\u001b[39;49mQRW()\n",
      "\u001b[1;32m/Users/hamecetin/Documents/GitHub/Quantitative-Methods-1/PS3/Homework_3_Econ8185_Hasan_Cetin.ipynb Cell 21\u001b[0m in \u001b[0;36mLQ.QRW\u001b[0;34m(self)\u001b[0m\n\u001b[1;32m     <a href='vscode-notebook-cell:/Users/hamecetin/Documents/GitHub/Quantitative-Methods-1/PS3/Homework_3_Econ8185_Hasan_Cetin.ipynb#Y162sZmlsZQ%3D%3D?line=81'>82</a>\u001b[0m \u001b[39mself\u001b[39m\u001b[39m.\u001b[39mM22 \u001b[39m=\u001b[39m \u001b[39m0.5\u001b[39m\u001b[39m*\u001b[39m\u001b[39mself\u001b[39m\u001b[39m.\u001b[39mH\n\u001b[1;32m     <a href='vscode-notebook-cell:/Users/hamecetin/Documents/GitHub/Quantitative-Methods-1/PS3/Homework_3_Econ8185_Hasan_Cetin.ipynb#Y162sZmlsZQ%3D%3D?line=83'>84</a>\u001b[0m \u001b[39m# M1 = np.block([M11,M12.T])\u001b[39;00m\n\u001b[1;32m     <a href='vscode-notebook-cell:/Users/hamecetin/Documents/GitHub/Quantitative-Methods-1/PS3/Homework_3_Econ8185_Hasan_Cetin.ipynb#Y162sZmlsZQ%3D%3D?line=84'>85</a>\u001b[0m \u001b[39m# M2 = np.block([M12,M22])\u001b[39;00m\n\u001b[1;32m     <a href='vscode-notebook-cell:/Users/hamecetin/Documents/GitHub/Quantitative-Methods-1/PS3/Homework_3_Econ8185_Hasan_Cetin.ipynb#Y162sZmlsZQ%3D%3D?line=85'>86</a>\u001b[0m \u001b[39m# M = np.vstack((M1,M2))\u001b[39;00m\n\u001b[0;32m   (...)\u001b[0m\n\u001b[1;32m     <a href='vscode-notebook-cell:/Users/hamecetin/Documents/GitHub/Quantitative-Methods-1/PS3/Homework_3_Econ8185_Hasan_Cetin.ipynb#Y162sZmlsZQ%3D%3D?line=95'>96</a>\u001b[0m \u001b[39m# self.Q = self.big_matrix[0:11, 0:11]\u001b[39;00m\n\u001b[1;32m     <a href='vscode-notebook-cell:/Users/hamecetin/Documents/GitHub/Quantitative-Methods-1/PS3/Homework_3_Econ8185_Hasan_Cetin.ipynb#Y162sZmlsZQ%3D%3D?line=96'>97</a>\u001b[0m \u001b[39m# self.R = self.big_matrix[11:, 11:]\u001b[39;00m\n\u001b[0;32m---> <a href='vscode-notebook-cell:/Users/hamecetin/Documents/GitHub/Quantitative-Methods-1/PS3/Homework_3_Econ8185_Hasan_Cetin.ipynb#Y162sZmlsZQ%3D%3D?line=97'>98</a>\u001b[0m \u001b[39mself\u001b[39m\u001b[39m.\u001b[39mW \u001b[39m=\u001b[39m \u001b[39mself\u001b[39;49m\u001b[39m.\u001b[39;49mbig_matrix[\u001b[39m0\u001b[39m:\u001b[39m11\u001b[39m, \u001b[39m11\u001b[39m:]\n",
      "\u001b[0;31mAttributeError\u001b[0m: 'LQ' object has no attribute 'big_matrix'"
     ]
    }
   ],
   "source": [
    "LQ_model.QRW()"
   ]
  },
  {
   "cell_type": "code",
   "execution_count": 52,
   "metadata": {},
   "outputs": [
    {
     "data": {
      "text/plain": [
       "array([[-2.99636963e+00,  6.59028877e-01,  2.48563069e-01,\n",
       "        -4.99750167e-01, -2.48649387e-01, -2.59766149e-01,\n",
       "        -2.63723022e-01,  0.00000000e+00,  8.70172456e-05,\n",
       "         2.23278757e-04,  7.40842085e+00],\n",
       "       [ 6.59028877e-01, -2.09437902e-01, -1.53514649e-01,\n",
       "         0.00000000e+00,  3.27599704e-01, -3.16686959e-01,\n",
       "         8.38879279e-02,  0.00000000e+00, -1.73957554e-01,\n",
       "         2.78332545e-01, -9.68645015e+00],\n",
       "       [ 2.48563069e-01, -1.53514649e-01, -4.89812753e-02,\n",
       "         0.00000000e+00,  4.90226484e-02, -4.49033140e-02,\n",
       "        -4.29370850e-02,  0.00000000e+00, -1.71516135e-05,\n",
       "        -4.40096848e-05, -3.65487410e+00],\n",
       "       [-4.99750167e-01,  0.00000000e+00,  0.00000000e+00,\n",
       "         4.99001747e-01,  0.00000000e+00, -2.22044605e-10,\n",
       "        -2.22044605e-10,  0.00000000e+00,  0.00000000e+00,\n",
       "        -2.22044605e-10, -2.22044605e-10],\n",
       "       [-2.48649387e-01,  3.27599704e-01,  4.90226484e-02,\n",
       "         0.00000000e+00, -1.23714561e-01, -1.29247101e-01,\n",
       "        -1.31216370e-01,  0.00000000e+00, -1.74115521e-01,\n",
       "         2.78881043e-01,  3.65793491e+00],\n",
       "       [-2.59766149e-01, -3.16686959e-01, -4.49033140e-02,\n",
       "        -2.22044605e-10, -1.29247101e-01, -1.35027058e-01,\n",
       "         1.26845278e-01,  0.00000000e+00,  1.74120774e-01,\n",
       "        -2.78883697e-01,  3.82151785e+00],\n",
       "       [-2.63723022e-01,  8.38879279e-02, -4.29370850e-02,\n",
       "        -2.22044605e-10, -1.31216370e-01,  1.26845278e-01,\n",
       "        -1.39173074e-01,  0.00000000e+00,  1.74122841e-01,\n",
       "        -2.78884137e-01,  3.87974403e+00],\n",
       "       [ 0.00000000e+00,  0.00000000e+00,  0.00000000e+00,\n",
       "         0.00000000e+00,  0.00000000e+00,  0.00000000e+00,\n",
       "         0.00000000e+00,  0.00000000e+00,  0.00000000e+00,\n",
       "         0.00000000e+00,  0.00000000e+00],\n",
       "       [ 8.70172456e-05, -1.73957554e-01, -1.71516135e-05,\n",
       "         0.00000000e+00, -1.74115521e-01,  1.74120774e-01,\n",
       "         1.74122841e-01,  0.00000000e+00,  1.74080835e-01,\n",
       "        -2.78754244e-01, -1.27981581e-03],\n",
       "       [ 2.23278757e-04,  2.78332545e-01, -4.40096848e-05,\n",
       "        -2.22044605e-10,  2.78881043e-01, -2.78883697e-01,\n",
       "        -2.78884137e-01,  0.00000000e+00, -2.78754244e-01,\n",
       "         4.44938892e-01, -3.28389671e-03],\n",
       "       [ 7.40842085e+00, -9.68645015e+00, -3.65487410e+00,\n",
       "        -2.22044605e-10,  3.65793491e+00,  3.82151785e+00,\n",
       "         3.87974403e+00,  0.00000000e+00, -1.27981581e-03,\n",
       "        -3.28389671e-03, -1.08168632e+02]])"
      ]
     },
     "execution_count": 52,
     "metadata": {},
     "output_type": "execute_result"
    }
   ],
   "source": [
    "LQ_model.Q"
   ]
  },
  {
   "cell_type": "code",
   "execution_count": 49,
   "metadata": {},
   "outputs": [
    {
     "data": {
      "text/plain": [
       "array([[-2.99636963e+00,  6.59028877e-01,  2.48563069e-01,\n",
       "        -4.99750167e-01, -2.48649387e-01, -2.59766149e-01,\n",
       "        -2.63723022e-01,  0.00000000e+00,  8.70172456e-05,\n",
       "         2.23278757e-04,  7.40842085e+00, -3.99794605e-01,\n",
       "        -6.89301187e-04],\n",
       "       [ 6.59028877e-01, -2.09437902e-01, -1.53514649e-01,\n",
       "         0.00000000e+00,  3.27599704e-01, -3.16686959e-01,\n",
       "         8.38879279e-02,  0.00000000e+00, -1.73957554e-01,\n",
       "         2.78332545e-01, -9.68645015e+00,  5.26815568e-01,\n",
       "        -5.24597441e-01],\n",
       "       [ 2.48563069e-01, -1.53514649e-01, -4.89812753e-02,\n",
       "         0.00000000e+00,  4.90226484e-02, -4.49033140e-02,\n",
       "        -4.29370850e-02,  0.00000000e+00, -1.71516135e-05,\n",
       "        -4.40096848e-05, -3.65487410e+00,  1.98778375e-01,\n",
       "        -7.85017109e-02],\n",
       "       [-4.99750167e-01,  0.00000000e+00,  0.00000000e+00,\n",
       "         4.99001747e-01,  0.00000000e+00, -2.22044605e-10,\n",
       "        -2.22044605e-10,  0.00000000e+00,  0.00000000e+00,\n",
       "        -2.22044605e-10, -2.22044605e-10, -2.22044605e-10,\n",
       "        -2.22044605e-10],\n",
       "       [-2.48649387e-01,  3.27599704e-01,  4.90226484e-02,\n",
       "         0.00000000e+00, -1.23714561e-01, -1.29247101e-01,\n",
       "        -1.31216370e-01,  0.00000000e+00, -1.74115521e-01,\n",
       "         2.78881043e-01,  3.65793491e+00, -1.98946378e-01,\n",
       "        -2.00359751e-01],\n",
       "       [-2.59766149e-01, -3.16686959e-01, -4.49033140e-02,\n",
       "        -2.22044605e-10, -1.29247101e-01, -1.35027058e-01,\n",
       "         1.26845278e-01,  0.00000000e+00,  1.74120774e-01,\n",
       "        -2.78883697e-01,  3.82151785e+00,  1.92319032e-01,\n",
       "         2.06967885e-01],\n",
       "       [-2.63723022e-01,  8.38879279e-02, -4.29370850e-02,\n",
       "        -2.22044605e-10, -1.31216370e-01,  1.26845278e-01,\n",
       "        -1.39173074e-01,  0.00000000e+00,  1.74122841e-01,\n",
       "        -2.78884137e-01,  3.87974403e+00, -2.11010098e-01,\n",
       "         2.10121343e-01],\n",
       "       [ 0.00000000e+00,  0.00000000e+00,  0.00000000e+00,\n",
       "         0.00000000e+00,  0.00000000e+00,  0.00000000e+00,\n",
       "         0.00000000e+00,  0.00000000e+00,  0.00000000e+00,\n",
       "         0.00000000e+00,  0.00000000e+00,  0.00000000e+00,\n",
       "         0.00000000e+00],\n",
       "       [ 8.70172456e-05, -1.73957554e-01, -1.71516135e-05,\n",
       "         0.00000000e+00, -1.74115521e-01,  1.74120774e-01,\n",
       "         1.74122841e-01,  0.00000000e+00,  1.74080835e-01,\n",
       "        -2.78754244e-01, -1.27981581e-03,  6.96058766e-05,\n",
       "         2.78817216e-01],\n",
       "       [ 2.23278757e-04,  2.78332545e-01, -4.40096848e-05,\n",
       "        -2.22044605e-10,  2.78881043e-01, -2.78883697e-01,\n",
       "        -2.78884137e-01,  0.00000000e+00, -2.78754244e-01,\n",
       "         4.44938892e-01, -3.28389671e-03,  1.78602688e-04,\n",
       "        -4.46582402e-01],\n",
       "       [ 7.40842085e+00, -9.68645015e+00, -3.65487410e+00,\n",
       "        -2.22044605e-10,  3.65793491e+00,  3.82151785e+00,\n",
       "         3.87974403e+00,  0.00000000e+00, -1.27981581e-03,\n",
       "        -3.28389671e-03, -1.08168632e+02,  5.88234094e+00,\n",
       "        -5.85763629e+00],\n",
       "       [-3.99794605e-01,  5.26815568e-01,  1.98778375e-01,\n",
       "        -2.22044605e-10, -1.98946378e-01,  1.92319032e-01,\n",
       "        -2.11010098e-01,  0.00000000e+00,  6.96058766e-05,\n",
       "         1.78602688e-04,  5.88234094e+00, -7.20402312e-01,\n",
       "         3.18579707e-01],\n",
       "       [-6.89301187e-04, -5.24597441e-01, -7.85017109e-02,\n",
       "        -2.22044605e-10, -2.00359751e-01,  2.06967885e-01,\n",
       "         2.10121343e-01,  0.00000000e+00,  2.78817216e-01,\n",
       "        -4.46582402e-01, -5.85763629e+00,  3.18579707e-01,\n",
       "        -1.38204036e+00]])"
      ]
     },
     "execution_count": 49,
     "metadata": {},
     "output_type": "execute_result"
    }
   ],
   "source": [
    "LQ_model.big_matrix"
   ]
  },
  {
   "cell_type": "code",
   "execution_count": 46,
   "metadata": {},
   "outputs": [
    {
     "data": {
      "text/plain": [
       "array([[nan, nan, nan, nan, nan, nan, nan, nan],\n",
       "       [nan, nan, nan, nan, nan, nan, nan, nan],\n",
       "       [nan, nan, nan, nan, nan, nan, nan, nan],\n",
       "       [nan, nan, nan, nan, nan, nan, nan, nan],\n",
       "       [nan, nan, nan, nan, nan, nan, nan, nan],\n",
       "       [nan, nan, nan, nan, nan, nan, nan, nan],\n",
       "       [nan, nan, nan, nan, nan, nan, nan, nan],\n",
       "       [nan, nan, nan, nan, nan, nan, nan, nan]])"
      ]
     },
     "execution_count": 46,
     "metadata": {},
     "output_type": "execute_result"
    }
   ],
   "source": [
    "LQ_model.P"
   ]
  },
  {
   "cell_type": "code",
   "execution_count": 13,
   "metadata": {},
   "outputs": [
    {
     "data": {
      "text/plain": [
       "array([[nan, nan, nan, nan, nan, nan, nan, nan],\n",
       "       [nan, nan, nan, nan, nan, nan, nan, nan]])"
      ]
     },
     "execution_count": 13,
     "metadata": {},
     "output_type": "execute_result"
    }
   ],
   "source": [
    "LQ_model.F"
   ]
  },
  {
   "cell_type": "code",
   "execution_count": 315,
   "metadata": {},
   "outputs": [],
   "source": [
    "class Vaughan:\n",
    "    def __init__(self, p=0.9,p_c=0.9,p_h=0.9,p_d=0.9,p_p=0.9, p_g=0.9, δ=0.8, \n",
    "     θ=0.7, β=0.6, γ_n=0.01, ψ=0.3, ϕ = 0.01):\n",
    "        \n",
    "        \"\"\"Parameters and the steady state initialization\"\"\"\n",
    "       \n",
    "        self.p = p                       # ρ's of the VAR(1) process\n",
    "        self.p_c = p_c\n",
    "        self.p_h = p_h\n",
    "        self.p_d = p_d\n",
    "        self.p_p = p_p\n",
    "        self.p_g = p_g\n",
    "\n",
    "        self.β = β                       # discount factor\n",
    "        self.θ = θ                       # capital share\n",
    "        self.ϕ = ϕ                       # steady state gov. spending share\n",
    "        self.δ = δ                       # depreciation rate of capital\n",
    "        self.ψ = ψ                       # parameter for valuing leisure\n",
    "        self.γ_n = γ_n                   # growth rate of population\n",
    "\n",
    "        self.β_hat = β * (1 + γ_n)       # Normalized beta\n",
    "\n",
    "        # Steady state values\n",
    "        self.Λ_1 = ((1/θ)*(1/β - (1-δ))) **(1/(1-θ))\n",
    "        self.Λ_2 = (1-ϕ)*(self.Λ_1**(1-θ)) - (δ + γ_n)\n",
    "\n",
    "        self.τ_css, self.τ_hss, self.τ_dss, self.τ_pss = 0, 0, 0, 0\n",
    "        self.ln_z_ss = 0\n",
    "\n",
    "        self.k_ss = ((1-θ)* (self.Λ_1**(-θ)))/(ψ*self.Λ_2 + (1-θ)*(self.Λ_1**(1-θ)))\n",
    "        self.h_ss = self.Λ_1 * self.k_ss\n",
    "        self.c_ss = self.Λ_2 * self.k_ss        \n",
    "        self.y_ss = (self.k_ss**θ) * (self.h_ss)**(1-θ)\n",
    "        self.ln_g_ss = np.log(ϕ * self.y_ss)\n",
    "        self.x_ss = (self.γ_n + δ)*self.k_ss\n",
    "        self.K_ss = self.k_ss\n",
    "        self.H_ss = self.h_ss\n",
    "        self.T_ss = - np.exp(self.ln_g_ss)\n",
    "        \n",
    "        self.w_ss = (1-θ) * (self.k_ss**(θ)*self.h_ss**(1-θ))/self.h_ss\n",
    "        self.r_ss = θ * (self.k_ss**(θ)*self.h_ss**(1-θ))/self.k_ss\n",
    "        \n",
    "\n",
    "        self.Steady_state = np.array([self.k_ss, self.ln_z_ss, self.τ_css, self.τ_hss, self.τ_dss, self.τ_pss,\n",
    "                                     self.ln_g_ss, self.K_ss, self.H_ss, self.T_ss, self.k_ss, self.h_ss]).astype(np.float64)\n",
    "\n",
    "        self.a = np.array([self.k_ss, self.ln_z_ss, self.τ_css, self.τ_hss, self.τ_dss, self.τ_pss, self.ln_g_ss,self.k_ss, self.h_ss]).astype(np.float64)\n",
    "        \n",
    "    def Ret(self, X):\n",
    "        \"\"\"One-period return function\"\"\"\n",
    "        k, ln_z, τ_c, τ_h, τ_d, τ_p, ln_g, K, H, T, k_prime, h = X[0], X[1], X[\n",
    "            2], X[3], X[4], X[5], X[6], X[7], X[8], X[9], X[10], X[11]\n",
    "        Y = K**(self.θ) * (np.exp(ln_z) * H)**(1 - self.θ)\n",
    "        r = self.θ * (Y/K)\n",
    "        w = (1-self.θ)*(Y/H)\n",
    "        x = (1+self.γ_n)*k_prime - (1-self.δ)*k\n",
    "\n",
    "        one = r*k*(1-τ_d)*(1-τ_p)\n",
    "        two = w*h*(1-τ_h)\n",
    "        three = T\n",
    "        four = x*(1-τ_d)\n",
    "        five = self.δ * k * (τ_p - τ_d*τ_p)\n",
    "\n",
    "        return np.log((1/(1+τ_c))*(one + two + three - four + five)) + self.ψ * np.log(1 - h) + 0 * np.exp(ln_g)                     \n",
    "\n",
    "    def QRW(self):\n",
    "        \"\"\"Create Jacobian,Hessian matrices and return value at the steady state and create big matrix (to find R,Q,W) correspondingly\"\"\"\n",
    "        \"\"\"Decomposes Big Matrix into R,Q,W and uses law of motinon to find A,B,C as well.\"\"\"\n",
    "        self.Return = np.array(self.Ret(self.Steady_state)).reshape(\n",
    "            (1, 1))  # Return at steady state\n",
    "        self.H = hessian(h=10e-4*np.ones(12), f=self.Ret,\n",
    "                         x=self.Steady_state)/2  # Hessian\n",
    "        self.J = (gradient(h=10e-4*np.ones(12), f=self.Ret,\n",
    "                          x=self.Steady_state)/2).reshape(12,1)  # Jacobian\n",
    "\n",
    "        first_row = np.concatenate([self.Return, self.J]).T\n",
    "        rest_of_matrix = np.concatenate([self.J, self.H], axis=1)\n",
    "\n",
    "        #Our big matrix to find Q,R,W\n",
    "        self.big_matrix = np.concatenate([first_row, rest_of_matrix])\n",
    "\n",
    "        self.Q = self.big_matrix[0:11, 0:11]\n",
    "        self.R = self.big_matrix[11:, 11:]\n",
    "        self.W = self.big_matrix[0:11, 11:]\n",
    "\n",
    "    def Transfer_payment(self, X):\n",
    "        \"\"\"Transfer payment's equation with market clearing\"\"\"\n",
    "        k, z, τ_c, τ_h, τ_d, τ_p, g, kp, h = X[0], X[1], X[2], X[3], X[4], X[5], X[6], X[7], X[8]\n",
    "        y =  k**(self.θ)*(np.exp(z)*h)**(1-self.θ)\n",
    "        w =  (1-self.θ) * y/h\n",
    "        r =  (self.θ) * y/k\n",
    "\n",
    "        first = (self.θ* k**(self.θ)*(np.exp(z)*h)**(1-self.θ) * (1-τ_d)*(1-τ_p))\n",
    "        second = (1-self.θ) * k**(self.θ)*(np.exp(z)*h)**(1-self.θ) * (1-τ_h)\n",
    "        third = τ_p * self.δ * k + τ_d * ((1+self.γ_n)* kp - (1-self.δ)*k - τ_p * self.δ * k)\n",
    "        \n",
    "        fourth = τ_h * w * h + τ_p * (r*k - self.δ * k) + τ_d * (r*k - τ_p * (r*k - self.δ*k)) - np.exp(g)\n",
    "        \n",
    "        return τ_c * (first + second + third) + (1 + τ_c) * (fourth)\n",
    "\n",
    "    def Transfer_taylor(self):\n",
    "        \"\"\" \n",
    "        f(x) = f(a) + (x-a)f'(a) = [f(a) - a f'(a)] + f'(a) x\n",
    "        \n",
    "        So, the parameter of 1 in X_{1t} is f(a) - a f'(a)\n",
    "\n",
    "        All the other variables of X_{1t}, X_{2t} and u_t are f'(a)\n",
    "\n",
    "        \"\"\"\n",
    "        a = np.array([self.k_ss, self.ln_z_ss, self.τ_css, self.τ_hss, self.τ_dss, self.τ_pss, self.ln_g_ss,self.k_ss, self.h_ss]).astype(np.float64)\n",
    "        fp_a = gradient(h=10e-4*np.ones(9), f=self.Transfer_payment, x=a)\n",
    "        \n",
    "        one = np.array(self.Ret(self.Steady_state) - np.dot(a,fp_a))\n",
    "       \n",
    "        Total_params = np.concatenate([one.reshape(1,1), fp_a.reshape(9,1)])\n",
    "\n",
    "        return Total_params[:-2], Total_params[-2:] #First one is the params of X_1t and X_2t variables, second one is the params of u_t\n",
    "\n",
    "\n",
    "    def theta_and_psi(self):\n",
    "        \"\"\"Calculates Ψ and Θ\"\"\"\n",
    "        theta_part, psi_part = self.Transfer_taylor()\n",
    "        \n",
    "        aux = np.zeros((2,8))\n",
    "        aux[0,1] = 1\n",
    "\n",
    "        self.Θ =  np.concatenate([aux,theta_part.reshape(1,8)])\n",
    "\n",
    "        self.Ψ = np.array([[0,0], [0,1], psi_part.reshape(2,)])\n",
    "\n",
    "\n",
    "    def ABC(self):\n",
    "        \"\"\"Calculates everything about A and B in levels\"\"\"\n",
    "        self.W_y = self.W[0:8,:]\n",
    "        self.W_z = self.W[8:,:]\n",
    "\n",
    "        self.A_y = np.array([[1,0,0,0,0,0,0,0],\n",
    "                               [0,0,0,0,0,0,0,0],\n",
    "                               [0,0,self.p,0,0,0,0,0],\n",
    "                               [0,0,0,self.p_c,0,0,0,0],\n",
    "                               [0,0,0,0,self.p_h,0,0,0],\n",
    "                               [0,0,0,0,0,self.p_d,0,0],\n",
    "                               [0,0,0,0,0,0,self.p_p,0],\n",
    "                               [0,0,0,0,0,0,0,self.p_g]])\n",
    "\n",
    "        self.A_z = np.zeros(shape=(8,3))\n",
    "\n",
    "        self.B_y = np.zeros(shape=(8,2))\n",
    "        self.B_y[1,0] = 1\n",
    "\n",
    "\n",
    "    def Normalize(self):\n",
    "        \"\"\"Normalizes everything with magical normalization functions to make all the variables ready for Ricatti equation\"\"\"\n",
    "        W_y, W_z, A_y, A_z, B_y = self.W_y, self.W_z, self.A_y, self.A_z, self.B_y\n",
    "        Θ, Ψ = self.Θ, self.Ψ \n",
    "\n",
    "        self.A_tilde_y = np.sqrt(self.β_hat) * (A_y -\n",
    "                                              B_y @ np.linalg.inv(self.R) @ W_y.T)\n",
    "        \n",
    "        self.A_tilde_z = np.sqrt(self.β_hat) * (A_z -\n",
    "                                              B_y @ np.linalg.inv(self.R) @ W_z.T)\n",
    "\n",
    "        self.B_tilde_y = np.sqrt(self.β_hat) * B_y\n",
    "\n",
    "        self.Q_tilde = self.Q - (self.W @ np.linalg.inv(self.R) @ self.W.T)\n",
    "\n",
    "        self.Q_tilde_y = self.Q_tilde[0:8,0:8]\n",
    "\n",
    "        self.Q_tilde_z = self.Q_tilde[0:8,8:]\n",
    "\n",
    "        self.Θ_tilde = np.dot(np.linalg.inv(np.eye(3)+ np.dot(np.dot(Ψ,np.linalg.inv(self.R)),W_z.T)),(Θ - np.dot(np.dot(Ψ,np.linalg.inv(self.R)),W_y.T)))\n",
    "\n",
    "        self.Ψ_tilde = np.dot(np.linalg.inv(np.eye(3)+ np.dot(np.dot(Ψ,np.linalg.inv(self.R)),W_z.T)),Ψ)\n",
    "    \n",
    "        # MAGIC normalization\n",
    "        self.A_hat = self.A_tilde_y + np.dot(self.A_tilde_z, self.Θ_tilde)\n",
    "        self.Q_hat = self.Q_tilde_y + np.dot(self.Q_tilde_z, self.Θ_tilde)\n",
    "        self.B_hat = self.B_tilde_y + np.dot(self.A_tilde_z, self.Ψ_tilde)\n",
    "        self.A_bar = self.A_tilde_y - self.B_tilde_y @ np.linalg.inv(self.R) @ self.Ψ_tilde.T @ self.Q_tilde_z.T\n",
    "    \n",
    "\n",
    "    def Ham(self):\n",
    "        h11 = np.linalg.inv(self.A_hat)\n",
    "        h12 = np.linalg.inv(self.A_hat) @ self.B_hat @ np.linalg.inv(self.R) @ self.B_tilde_y.T\n",
    "        h21 = self.Q_hat @ np.linalg.inv(self.A_hat)\n",
    "        h22 = self.Q_hat @ np.linalg.inv(self.A_hat) @ self.B_hat @ np.linalg.inv(self.R) @ self.B_tilde_y.T + self.A_bar.transpose()\n",
    "\n",
    "        self.H =  np.block([[h11,h12], [h21,h22]])\n",
    "\n",
    "    def decomposition(self):\n",
    "        \"\"\"Decompose Hamiltonian matrix and order the eigenvalues and eigenvectors\"\"\"\n",
    "        h = self.H.shape[0] // 2  # Midpoint\n",
    "\n",
    "        val, vec = np.linalg.eig(self.H)\n",
    "\n",
    "        idx_sorted = np.argsort(val)[::-1]  # Order in descending order\n",
    "        # Reverse the order of the second half\n",
    "        idx_sorted[h:] = idx_sorted[h:][::-1]\n",
    "\n",
    "        self.Λ, self.V = np.diag(val[idx_sorted]), vec[:, idx_sorted]\n",
    "\n",
    "    \n",
    "    def solving_P_and_F(self):\n",
    "        \"\"\"Get P and F\"\"\"\n",
    "        self.QRW()\n",
    "        self.theta_and_psi()\n",
    "        self.ABC()\n",
    "        self.Normalize()\n",
    "        self.Ham()\n",
    "        self.decomposition()\n",
    "\n",
    "        h = self.H.shape[0] // 2\n",
    "        self.V11, self.V21 = self.V[0:h, 0:h], self.V[h:, 0:h]\n",
    "\n",
    "        self.P = self.V21 @ np.linalg.inv(self.V11)\n",
    "        self.F = (np.linalg.inv(self.R + self.B_tilde_y.T @ self.P @\n",
    "                  self.B_hat) @ self.B_tilde_y.T @ self.P @ self.A_hat)\n",
    "    "
   ]
  },
  {
   "cell_type": "code",
   "execution_count": 316,
   "metadata": {},
   "outputs": [],
   "source": [
    "Vaughan_model = Vaughan()"
   ]
  },
  {
   "cell_type": "code",
   "execution_count": 317,
   "metadata": {},
   "outputs": [],
   "source": [
    "Vaughan_model.solving_P_and_F()"
   ]
  },
  {
   "cell_type": "code",
   "execution_count": 318,
   "metadata": {},
   "outputs": [
    {
     "data": {
      "text/plain": [
       "array([[-6.41938763e+01,  1.21356659e+01,  5.38448298e-01,\n",
       "         6.90677944e-01, -8.04310681e-04,  6.90514098e-01,\n",
       "         6.10289194e-03, -1.80898150e-02],\n",
       "       [ 5.31058980e+02, -2.15620211e+02,  3.74995730e-02,\n",
       "        -1.75287137e+01,  6.61575312e-02, -1.75924883e+01,\n",
       "        -8.13520000e+00,  1.77146273e-01],\n",
       "       [ 2.42350559e+01,  4.11216835e-02,  2.00461042e-02,\n",
       "        -7.14282209e-01, -1.50722999e-01, -5.63454434e-01,\n",
       "        -4.76302724e-01,  7.21858050e-03],\n",
       "       [-1.09931845e+00,  7.53825771e-10,  1.26449359e-11,\n",
       "         9.80087495e-01,  8.67472826e-10,  7.11445885e-12,\n",
       "        -1.59310137e-11, -2.37911324e-14],\n",
       "       [-2.42762077e+01, -1.45151594e-01, -2.18100442e-02,\n",
       "         7.14615953e-01,  4.92703982e-03,  2.20840634e-01,\n",
       "         1.36788162e-01, -7.22195332e-03],\n",
       "       [-2.61275024e+01,  3.26049159e-01,  2.91542336e-02,\n",
       "         8.95432769e-01, -1.52139821e-02,  3.99904430e-01,\n",
       "         3.73830480e-01, -9.04929934e-03],\n",
       "       [-2.85602310e+01,  2.98798031e+00, -1.59655096e-01,\n",
       "         8.70001372e-01,  5.58337004e-02,  8.14040268e-01,\n",
       "         9.78018129e-02, -8.79228806e-03],\n",
       "       [ 0.00000000e+00,  0.00000000e+00,  0.00000000e+00,\n",
       "         0.00000000e+00,  0.00000000e+00,  0.00000000e+00,\n",
       "         0.00000000e+00,  0.00000000e+00]])"
      ]
     },
     "execution_count": 318,
     "metadata": {},
     "output_type": "execute_result"
    }
   ],
   "source": [
    "Vaughan_model.P"
   ]
  },
  {
   "cell_type": "code",
   "execution_count": 319,
   "metadata": {},
   "outputs": [
    {
     "data": {
      "text/plain": [
       "array([[-3.34331375e+00,  1.09041246e+00,  2.24382654e-02,\n",
       "         1.10117535e-01, -8.93359336e-03,  1.19035209e-01,\n",
       "         2.05931963e-02, -1.11285467e-03],\n",
       "       [-1.47478032e+01,  4.80995493e+00,  9.89781839e-02,\n",
       "         4.85743148e-01, -3.94072729e-02,  5.25080195e-01,\n",
       "         9.08393379e-02, -4.90895051e-03]])"
      ]
     },
     "execution_count": 319,
     "metadata": {},
     "output_type": "execute_result"
    }
   ],
   "source": [
    "Vaughan_model.F"
   ]
  },
  {
   "cell_type": "markdown",
   "metadata": {},
   "source": [
    "We have the same answers. It is consistent."
   ]
  },
  {
   "cell_type": "markdown",
   "metadata": {},
   "source": [
    "## Why is the Brute Force VFI hard to compute?\n",
    "\n",
    "Let's write the Bellmann equation:\n",
    "\n",
    "\n",
    "$$V(S,k) = \\max_{k',h} \\left\\{ \n",
    "\n",
    "\\dfrac{1}{1+\\tau_c} \\left[ θ \\dfrac{K^θ H^{1-θ}}{K} k [(1-τ_p)(1-τ_d)] + (1-θ)\\dfrac{K^{θ}H^{1-\\theta}}{H}h[1-τ_h] + T - [(1+γ_n)k'-(1-δ)k](1-τ_d) + δk[τ_p - τ_p τ_d]\\right] + ψ log(1-h) + β \\mathbb{E}\\{V(S',k')|S\\}\\right\\}$$\n",
    "\n",
    "$$\\text{s.t. } S = [log(z), τ_c,τ_h,τ_d,τ_p, log(g)] $$\n",
    "\n",
    "Here, we have only two decision variables. So it is not the problem. The main problem of brute force VFI is that **we have so many exogenous stochastic variables**. $z,τ_c,τ_h,τ_d,τ_p,g$\n",
    "\n",
    "Let's assume we use Rouwenhorst method and discreticized all these shocks into 20 grids. Then, in every iteration, the VFI process needs to calculate $20^6$ calculations, which is absurdly big number. This is the main issue of VFI in this problem."
   ]
  },
  {
   "cell_type": "markdown",
   "metadata": {},
   "source": [
    "## Simulation of the Variables\n",
    "\n",
    "To simulate we will assume the shocks for the exogenous stochastic variables are normally distributed. And we will use $u_t = -F y_t$ to simulate the control variables. Lastly, to simulate the aggregate variables, we will use $Θ, Ψ$ and the following relation: $X_{3t} = Θ y_t + Ψ u_t $\n",
    "\n",
    "And we will assume that the initial period the variables starts from their steady states."
   ]
  },
  {
   "cell_type": "code",
   "execution_count": 173,
   "metadata": {},
   "outputs": [
    {
     "name": "stdout",
     "output_type": "stream",
     "text": [
      "Succesfully converged!\n"
     ]
    }
   ],
   "source": [
    "Model = LQ()\n",
    "Model.convergence()\n",
    "\n",
    "Θ = Model.Θ\n",
    "Ψ = Model.Ψ\n",
    "P = Model.P\n",
    "F = Model.F\n",
    "\n",
    "time = 100\n",
    "\n",
    "#The variables\n",
    "τ_c = np.zeros(time)\n",
    "τ_h = np.zeros(time)\n",
    "τ_d = np.zeros(time)\n",
    "τ_p = np.zeros(time)\n",
    "ln_z = np.zeros(time)\n",
    "k = np.zeros(time+1)\n",
    "ln_g = np.zeros(time)\n",
    "h = np.zeros(time)\n",
    "T = np.zeros(time+1)\n",
    "K = np.zeros(time+1)\n",
    "H = np.zeros(time+1)\n",
    "\n",
    "#initial states\n",
    "τ_c[0] = 0\n",
    "τ_h[0] = 0\n",
    "τ_d[0] = 0\n",
    "τ_p[0] = 0\n",
    "k[0] = Model.ln_k_ss\n",
    "ln_z[0] = Model.ln_z_ss\n",
    "ln_g[0] = Model.ln_g_ss\n",
    "T[0] = -np.exp(ln_g[0])\n",
    "h[0] = Model.h_ss\n",
    "K[0] = Model.ln_k_ss\n",
    "H[0] = Model.h_ss"
   ]
  },
  {
   "cell_type": "code",
   "execution_count": 174,
   "metadata": {},
   "outputs": [
    {
     "ename": "AttributeError",
     "evalue": "'LQ' object has no attribute 'k_ss'",
     "output_type": "error",
     "traceback": [
      "\u001b[0;31m---------------------------------------------------------------------------\u001b[0m",
      "\u001b[0;31mAttributeError\u001b[0m                            Traceback (most recent call last)",
      "\u001b[1;32m/Users/hamecetin/Documents/GitHub/Quantitative-Methods-1/PS3/Homework_3_Econ8185_Hasan_Cetin.ipynb Cell 54\u001b[0m in \u001b[0;36m<cell line: 9>\u001b[0;34m()\u001b[0m\n\u001b[1;32m      <a href='vscode-notebook-cell:/Users/hamecetin/Documents/GitHub/Quantitative-Methods-1/PS3/Homework_3_Econ8185_Hasan_Cetin.ipynb#X40sZmlsZQ%3D%3D?line=6'>7</a>\u001b[0m     ln_z[i\u001b[39m+\u001b[39m\u001b[39m1\u001b[39m] \u001b[39m=\u001b[39m Model\u001b[39m.\u001b[39mp \u001b[39m*\u001b[39m ln_z[i] \u001b[39m+\u001b[39m np\u001b[39m.\u001b[39mrandom\u001b[39m.\u001b[39mrandn()\n\u001b[1;32m      <a href='vscode-notebook-cell:/Users/hamecetin/Documents/GitHub/Quantitative-Methods-1/PS3/Homework_3_Econ8185_Hasan_Cetin.ipynb#X40sZmlsZQ%3D%3D?line=8'>9</a>\u001b[0m \u001b[39mfor\u001b[39;00m i \u001b[39min\u001b[39;00m \u001b[39mrange\u001b[39m(time):\n\u001b[0;32m---> <a href='vscode-notebook-cell:/Users/hamecetin/Documents/GitHub/Quantitative-Methods-1/PS3/Homework_3_Econ8185_Hasan_Cetin.ipynb#X40sZmlsZQ%3D%3D?line=9'>10</a>\u001b[0m     y \u001b[39m=\u001b[39m np\u001b[39m.\u001b[39marray([[\u001b[39m1\u001b[39m], [k[i] \u001b[39m-\u001b[39m Model\u001b[39m.\u001b[39;49mk_ss], [ln_z[i] \u001b[39m-\u001b[39m Model\u001b[39m.\u001b[39mln_z_ss], [τ_c[i] \u001b[39m-\u001b[39m Model\u001b[39m.\u001b[39mτ_css], [τ_h[i]\u001b[39m-\u001b[39mModel\u001b[39m.\u001b[39mτ_css], [τ_d[i]\u001b[39m-\u001b[39mModel\u001b[39m.\u001b[39mτ_css], [τ_p[i]\u001b[39m-\u001b[39mModel\u001b[39m.\u001b[39mτ_css], [ln_g[i] \u001b[39m-\u001b[39m Model\u001b[39m.\u001b[39mln_g_ss] ])\n\u001b[1;32m     <a href='vscode-notebook-cell:/Users/hamecetin/Documents/GitHub/Quantitative-Methods-1/PS3/Homework_3_Econ8185_Hasan_Cetin.ipynb#X40sZmlsZQ%3D%3D?line=10'>11</a>\u001b[0m     u \u001b[39m=\u001b[39m (\u001b[39m-\u001b[39mF \u001b[39m@\u001b[39m y)\n\u001b[1;32m     <a href='vscode-notebook-cell:/Users/hamecetin/Documents/GitHub/Quantitative-Methods-1/PS3/Homework_3_Econ8185_Hasan_Cetin.ipynb#X40sZmlsZQ%3D%3D?line=12'>13</a>\u001b[0m     k[i\u001b[39m+\u001b[39m\u001b[39m1\u001b[39m] \u001b[39m=\u001b[39m u[\u001b[39m0\u001b[39m]\n",
      "\u001b[0;31mAttributeError\u001b[0m: 'LQ' object has no attribute 'k_ss'"
     ]
    }
   ],
   "source": [
    "for i in range(time-1): \n",
    "    τ_c[i+1] = Model.p_c * τ_c[i] + np.random.randn()\n",
    "    τ_h[i+1] = Model.p_h * τ_h[i] + np.random.randn()\n",
    "    τ_d[i+1] = Model.p_d * τ_d[i] + np.random.randn()\n",
    "    τ_p[i+1] = Model.p_p * τ_p[i] + np.random.randn()\n",
    "    ln_g[i+1] = Model.p_g * ln_g[i] + np.random.randn()\n",
    "    ln_z[i+1] = Model.p * ln_z[i] + np.random.randn()\n",
    "\n",
    "for i in range(time):\n",
    "    y = np.array([[1], [k[i] - Model.k_ss], [ln_z[i] - Model.ln_z_ss], [τ_c[i] - Model.τ_css], [τ_h[i]-Model.τ_css], [τ_d[i]-Model.τ_css], [τ_p[i]-Model.τ_css], [ln_g[i] - Model.ln_g_ss] ])\n",
    "    u = (-F @ y)\n",
    "    \n",
    "    k[i+1] = u[0]\n",
    "    h[i] = u[1]\n",
    "\n",
    "    K[i] = (np.dot(Θ,y) + np.dot(Ψ,u))[0]\n",
    "    H[i] = (np.dot(Θ,y) + np.dot(Ψ,u))[1]\n",
    "    T[i] = (np.dot(Θ,y) + np.dot(Ψ,u))[2]\n",
    "    "
   ]
  },
  {
   "cell_type": "code",
   "execution_count": 175,
   "metadata": {},
   "outputs": [
    {
     "data": {
      "image/png": "[encoded data removed]",
      "text/plain": [
       "<Figure size 864x432 with 1 Axes>"
      ]
     },
     "metadata": {
      "needs_background": "light"
     },
     "output_type": "display_data"
    }
   ],
   "source": [
    "fig,ax = plt.subplots(figsize=(12,6))\n",
    "\n",
    "\n",
    "ax.plot(ln_z, label='$ln(z)$')\n",
    "ax.plot(ln_g, label='$ln(g)$')\n",
    "ax.plot(τ_c, label=r'$τ_c$')\n",
    "ax.plot(τ_h, label='$τ_h$')\n",
    "ax.plot(τ_d, label='$τ_d$')\n",
    "ax.plot(τ_p, label='$τ_p$')\n",
    "ax.set_title('Simulation of exogenous stochastic variables')\n",
    "ax.legend()\n",
    "plt.show()"
   ]
  },
  {
   "cell_type": "markdown",
   "metadata": {},
   "source": [
    "Why tax rates are not bounded by [0,1]? Because it was not assumed in the question. Why? I don't know."
   ]
  },
  {
   "cell_type": "code",
   "execution_count": 176,
   "metadata": {},
   "outputs": [
    {
     "data": {
      "image/png": "[encoded data removed]",
      "text/plain": [
       "<Figure size 864x432 with 2 Axes>"
      ]
     },
     "metadata": {
      "needs_background": "light"
     },
     "output_type": "display_data"
    }
   ],
   "source": [
    "fig,ax = plt.subplots(1,2,figsize=(12,6))\n",
    "\n",
    "ax[0].plot(k[0:50], label='Capital')\n",
    "ax[0].set_title('Capital evolution')\n",
    "ax[0].legend()\n",
    "\n",
    "ax[1].plot(h[0:50], label='Hours')\n",
    "ax[1].set_title('Hours evolution')\n",
    "ax[1].legend()\n",
    "\n",
    "plt.show()\n",
    "\n"
   ]
  },
  {
   "cell_type": "code",
   "execution_count": 377,
   "metadata": {},
   "outputs": [
    {
     "data": {
      "image/png": "[encoded data removed]",
      "text/plain": [
       "<Figure size 1080x432 with 3 Axes>"
      ]
     },
     "metadata": {
      "needs_background": "light"
     },
     "output_type": "display_data"
    }
   ],
   "source": [
    "fig,ax = plt.subplots(1,3,figsize=(15,6))\n",
    "\n",
    "ax[0].plot(K[0:50], label='Capital')\n",
    "ax[0].set_title('Aggregate Capital evolution')\n",
    "ax[0].legend()\n",
    "\n",
    "ax[1].plot(H[0:50], label='Hours')\n",
    "ax[1].set_title('Aggregate Hours evolution')\n",
    "ax[1].legend()\n",
    "\n",
    "ax[2].plot(T[0:50], label='Transfer Payment')\n",
    "ax[2].set_title('Transfer Payment evolution')\n",
    "ax[2].legend()\n",
    "\n",
    "plt.show()"
   ]
  },
  {
   "cell_type": "markdown",
   "metadata": {},
   "source": [
    "It is obvious that T,K, H, k and h are wrong"
   ]
  },
  {
   "cell_type": "markdown",
   "metadata": {},
   "source": [
    "## Dividends, Accounting Profits and Stock Valuation Simulation\n",
    "\n",
    "Dividends: $d_t = K_t^θ (z_t H_t)^{1-\\theta} - w_t H_t - (1+τ_{dt})X_t$, where $X_t = (1+γ_n)K_{t+1} - (1-δ)K_t$\n",
    "\n",
    "Accounting Profits: $Pr_t = d_t + k_{t+1} - k_t$\n",
    "\n",
    "Stock Valuation: $v_t = (1+τ_{dt})K_t$"
   ]
  },
  {
   "cell_type": "code",
   "execution_count": 406,
   "metadata": {},
   "outputs": [
    {
     "data": {
      "image/png": "[encoded data removed]",
      "text/plain": [
       "<Figure size 432x288 with 1 Axes>"
      ]
     },
     "metadata": {
      "needs_background": "light"
     },
     "output_type": "display_data"
    }
   ],
   "source": [
    "plt.plot((1+τ_d)*K[:100])\n",
    "plt.title('Stock Valuation')\n",
    "plt.show()"
   ]
  },
  {
   "cell_type": "code",
   "execution_count": null,
   "metadata": {},
   "outputs": [],
   "source": []
  }
 ],
 "metadata": {
  "kernelspec": {
   "display_name": "Python 3.8.8 ('base')",
   "language": "python",
   "name": "python3"
  },
  "language_info": {
   "codemirror_mode": {
    "name": "ipython",
    "version": 3
   },
   "file_extension": ".py",
   "mimetype": "text/x-python",
   "name": "python",
   "nbconvert_exporter": "python",
   "pygments_lexer": "ipython3",
   "version": "3.8.8 (default, Apr 13 2021, 12:59:45) \n[Clang 10.0.0 ]"
  },
  "orig_nbformat": 4,
  "vscode": {
   "interpreter": {
    "hash": "4cb68feeda358cd999e6c5ea40a6d1740fd7be6f357c97f27cdc2dc32d902bae"
   }
  }
 },
 "nbformat": 4,
 "nbformat_minor": 2
}
