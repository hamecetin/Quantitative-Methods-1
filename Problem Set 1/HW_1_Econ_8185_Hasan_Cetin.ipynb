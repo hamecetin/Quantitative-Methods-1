{
 "cells": [
  {
   "cell_type": "markdown",
   "id": "275f27dc",
   "metadata": {},
   "source": [
    "## Homework 1\n",
    "### Hasan Cetin\n",
    "---"
   ]
  },
  {
   "cell_type": "code",
   "execution_count": 2,
   "id": "e7c40834",
   "metadata": {},
   "outputs": [],
   "source": [
    "%matplotlib inline\n",
    "\n",
    "import numpy as np\n",
    "import matplotlib.pyplot as plt\n",
    "\n",
    "from scipy.optimize import minimize_scalar\n",
    "from scipy.interpolate import interp1d\n",
    "\n",
    "\n",
    "import quantecon as qe\n",
    "import warnings\n",
    "warnings.filterwarnings(\"ignore\", category=RuntimeWarning) \n",
    "\n",
    "plt.style.use('seaborn-notebook')"
   ]
  },
  {
   "cell_type": "code",
   "execution_count": 3,
   "id": "784db833",
   "metadata": {},
   "outputs": [],
   "source": [
    "#Input the parameter values\n",
    "\n",
    "α = 0.7\n",
    "β = 0.98\n",
    "ρ = 0.9\n",
    "e = np.exp(1)\n",
    "tol = 10e-5"
   ]
  },
  {
   "cell_type": "markdown",
   "id": "03da8ae2",
   "metadata": {},
   "source": [
    "# 1) VFI"
   ]
  },
  {
   "cell_type": "markdown",
   "id": "f60fc884",
   "metadata": {},
   "source": [
    "# Deterministic Case\n",
    "\n",
    "Let's first try to solve the deterministic case where $z_t = 10$:"
   ]
  },
  {
   "cell_type": "markdown",
   "id": "51141f92",
   "metadata": {},
   "source": [
    "# 1.1) Deterministic Case\n",
    "\n",
    "Let's first try to solve the deterministic case where $z_t = 10$:"
   ]
  },
  {
   "cell_type": "code",
   "execution_count": 10,
   "id": "cf411c84",
   "metadata": {},
   "outputs": [],
   "source": [
    "class VFI_growth_model_deterministic:\n",
    "    \n",
    "    def __init__(self, k_min=0.05, k_max=10, grid_size=100, α=0.6, β=0.6, δ = 0.5, z=10, ϵ=10e-6):\n",
    "        self.k_min, self.k_max, self.grid_size, self.α, self.β, self.δ, self.z, self.ϵ = k_min, k_max, grid_size, α, β, δ, z, int(ϵ)\n",
    "    \n",
    "    def create_grid(self):\n",
    "        \"\"\"Creates grid of X, vector of Γ, V, TV with dimension of grid_size\"\"\"\n",
    "        X = np.linspace(self.k_min, self.k_max, self.grid_size)\n",
    "        Γ = np.ones(self.grid_size)*(-1)\n",
    "        V = np.zeros(self.grid_size)\n",
    "        TV = np.ones(self.grid_size)\n",
    "        return X, Γ, V, TV\n",
    "    \n",
    "    def returnFun(self, x_index, a_index, X, V):\n",
    "        \"\"\"Computes the Value given x, a, X, V\"\"\"\n",
    "        x = X[x_index]\n",
    "        a = X[a_index]\n",
    "        \n",
    "        if x ** self.α + (1-self.δ)*x - a < 0: #Negative Consumption Case\n",
    "            return -1000\n",
    "        else:\n",
    "            return np.log(x ** self.α + (1-self.δ)*x - a) + self.β * V[a_index]\n",
    "        \n",
    "    def computeMax(self, x_index, X, V):\n",
    "        \"\"\"Computes max value and optimal policy given x, X, V\"\"\"\n",
    "        solution = -100000\n",
    "        optimal_index = -1\n",
    "        for i in range(self.grid_size):\n",
    "            value = self.returnFun(x_index, i, X, V)\n",
    "            \n",
    "            if value > solution:\n",
    "                solution = value\n",
    "                optimal_index = i\n",
    "        return solution, optimal_index\n",
    "    \n",
    "    def ValueFun(self, X, V):\n",
    "        \"\"\"Gets TV after doing computeMax function for all x, given X, V\"\"\"\n",
    "        Γ = np.ones(self.grid_size)*(-1)\n",
    "        TV = np.ones(self.grid_size)\n",
    "        \n",
    "        for i in range(self.grid_size):\n",
    "            TV[i], Γ[i] = self.computeMax(i, X, V)\n",
    "        \n",
    "        return TV, Γ\n",
    "            \n",
    "    def mainFunction(self):\n",
    "        \"\"\"Iteration until convergence\"\"\"\n",
    "        X, Γ, V, TV = self.create_grid()\n",
    "        g = np.empty(self.grid_size)\n",
    "        dist = 1000\n",
    "        ϵ = self.ϵ\n",
    "        \n",
    "        while dist > ϵ:\n",
    "            TV, Γ = self.ValueFun(X, V)\n",
    "            dist = max(np.abs(TV - V))\n",
    "            V = np.copy(TV)\n",
    "            \n",
    "        Γ = Γ.astype(int)                #Getting optimal value\n",
    "        for i in range(self.grid_size):\n",
    "            g[i] = X[Γ[i]]\n",
    "            \n",
    "        return X, TV, Γ, g\n",
    "    \n",
    "    def __call__(self):\n",
    "        return self.mainFunction()\n",
    "    "
   ]
  },
  {
   "cell_type": "code",
   "execution_count": 11,
   "id": "a18dc91c",
   "metadata": {},
   "outputs": [
    {
     "data": {
      "image/png": "[encoded data removed]",
      "text/plain": [
       "<Figure size 576x396 with 1 Axes>"
      ]
     },
     "metadata": {
      "needs_background": "light"
     },
     "output_type": "display_data"
    }
   ],
   "source": [
    "X ,TV, Γ, g = VFI_growth_model_deterministic()()\n",
    "\n",
    "fig, ax = plt.subplots()\n",
    "\n",
    "ax.plot(X, TV, label='V(x)')\n",
    "ax.set_xlabel('X'); ax.set_ylabel('Value'); ax.set_label('Value function')\n",
    "ax.legend()\n",
    "plt.show()"
   ]
  },
  {
   "cell_type": "markdown",
   "id": "33f4a135",
   "metadata": {},
   "source": [
    "#  1.2) Stochastic Case"
   ]
  },
  {
   "cell_type": "markdown",
   "id": "e12351d9",
   "metadata": {},
   "source": [
    "Now $z_t$ is stochastic. What is our new Bellmann Operator:\n",
    "\n",
    "$$ (TV)(y) = \\max_{0 \\leq c \\leq y} u(c) + \\beta \\int V(f(y-c)z))\\phi(dz)$$\n",
    "\n",
    "where:\n",
    "\n",
    "$$f(y_t-c_t) = z_t(y_t-c_t)^\\alpha$$\n",
    "$$[log(z_{t+1}) = \\rho_0 + \\rho log(z_t) + \\epsilon_{t+1}] \\equiv [z_{t+1} = z_t^\\rho + exp(\\rho_{0} + \\epsilon_{t+1})], \\;\\;\\;\\; \\epsilon \\sim N(0, \\sigma^2_{\\epsilon})$$\n",
    "\n",
    "Here, $\\psi_{t+1} = exp(\\rho_{0} + \\epsilon_{t+1})$ can be considered as the shock."
   ]
  },
  {
   "cell_type": "markdown",
   "id": "a0f6364c",
   "metadata": {},
   "source": [
    "Note that $z_{t+1} = z_t^\\rho + exp(\\rho_{0} + \\epsilon_{t+1})$ is an AR(1) process. Two possibilities:\n",
    "\n",
    "- $\\rho = 0$: Then it is simple to solve since defining a shock vector is enough to solve the problem. Because the process does not depend on previous factor z_t.\n",
    "- $\\rho \\not = 0$: It is more problematic since it is AR(1) process and we need to define Markov tranisition matrix Q to solve the problem.\n",
    "\n",
    "## 1.2.1) $\\rho$ = 0 case:"
   ]
  },
  {
   "cell_type": "markdown",
   "id": "2b35e5c5",
   "metadata": {},
   "source": [
    "Let's determine what the parameters of the problem are:\n",
    "\n",
    "- $\\beta$, Time discounting factor\n",
    "- $\\rho_0$, $\\rho$, Factor production parameters                \n",
    "- $\\mu = 0$, $\\sigma^2_\\epsilon$,   Distribution parameters of the shock\n",
    "- utility function $u$, production function $f$\n",
    "- grid size of values $grid\\_size$\n",
    "- grid size of shocks $shock\\_size$"
   ]
  },
  {
   "cell_type": "markdown",
   "id": "6e1e2495",
   "metadata": {},
   "source": [
    "Now, before defining our class, note that we are going to use Monte Carlo simulation to compute the integral.\n",
    "\n",
    "$$\\int V(f(y-c)z) \\phi(dz) \\approx \\dfrac{1}{n} \\sum_{i = 1}^{n}V(f(y-c)z)\\psi_i$$\n",
    "\n",
    "where $\\psi_i \\equiv exp(\\rho_0 + \\epsilon_{i})$ are IID draws.\n",
    "\n",
    "Note also that we have finite grid points but $f(y-c)z$ might not be one of those grid points? What should we do?\n",
    "\n",
    "Answer: Use interpolation! We'll use linear interpolation for simplicity. We'll use `scipy.interpolate.interp1d` method.\n",
    "    \n",
    "`.RHS_Bellman` in our class will compute RHS of the bellman equation. We need to maximize it as well. To do this, we are going to use `scipy.optimize.minimize_scalar`. To make our class definition shorter and to be able to use it in general case, we'll define maximize function outside of the class definition"
   ]
  },
  {
   "cell_type": "code",
   "execution_count": 15,
   "id": "e1fb387f",
   "metadata": {},
   "outputs": [],
   "source": [
    "def maximize(f, a, b, args):\n",
    "    \"\"\"maximize the function f on [a,b] by minimizing -f on [a,b]. args is used for arguments of the function f\"\"\"\n",
    "    function = lambda x: -f(x, *args)\n",
    "    result = minimize_scalar(function, bounds=(a,b), method='bounded')\n",
    "    maximizer, maximum = result.x, result.fun\n",
    "    \n",
    "    return maximizer, maximum"
   ]
  },
  {
   "cell_type": "code",
   "execution_count": 16,
   "id": "934960fe",
   "metadata": {},
   "outputs": [],
   "source": [
    "class VFI_growth_model_stochastic:\n",
    "    \n",
    "    def __init__(self,u, f, β=0.96, ρ_0=0, ρ=0.8, σ=1 , μ=0, grid_size=100, shock_size=250, random_seed = 1234):\n",
    "        self.β = β                      #time discounting factor\n",
    "        self.ρ_0 = ρ_0                  #ρ_0\n",
    "        self.ρ = ρ                      #ρ\n",
    "        self.μ = μ                      #μ\n",
    "        self.σ = σ                      #σ^2_{ϵ}\n",
    "        self.u = u                      #utility function\n",
    "        self.f = f                      #production function\n",
    "        self.grid_size = grid_size      #grid size for the values\n",
    "        self.shock_size = shock_size    #grid size for the shocks\n",
    "        self.random_seed = random_seed   #for getting the same value everytime\n",
    "        \n",
    "        #setting up grid\n",
    "        self.grid = np.linspace(1e-4, 4, self.grid_size)           #grid_size x 1 of equally spaced grid vector\n",
    "        \n",
    "        #setting up shocks\n",
    "        np.random.seed = self.random_seed\n",
    "        self.shocks =  self.ρ_0 + np.random.normal(loc= self.μ, scale = self.σ, size = self.shock_size) #shock_size x 1 vector of shocks\n",
    "        \n",
    "    def RHS_Bellman(self, c, y ,v_values):\n",
    "        \"\"\"RHS of the Bellman operator\"\"\"\n",
    "        u, f, β, shocks = self.u, self.f, self.β, self.shocks #for simplicity\n",
    "        \n",
    "        v = interp1d(self.grid, v_values)  #self.grid = x, v_values=y and linearly interpolate inbetween\n",
    "        \n",
    "        RHS = u(c) + β * 1/len(shocks) * np.sum(v(f(y-c)) + np.exp(shocks + self.ρ_0))\n",
    "        \n",
    "        return RHS\n",
    "        \n",
    "    def T(self,v):\n",
    "        \"\"\"Bellmann operator T. Computes TV and put it back to V on RHS and iterates\"\"\"\n",
    "        v_new = np.empty_like(v)\n",
    "        opt_policy = np.empty_like(v) #Create value vectors to be filled as the same size of argument v.\n",
    "        \n",
    "        for i in range(self.grid_size):\n",
    "            y = self.grid[i]\n",
    "            c_star, v_max = maximize(self.RHS_Bellman, 1e-10, y, args= (y,v))\n",
    "            v_new[i] = v_max\n",
    "            opt_policy[i] = c_star\n",
    "        return opt_policy, v_new"
   ]
  },
  {
   "cell_type": "markdown",
   "id": "999a5349",
   "metadata": {},
   "source": [
    "Now let's guess $V^*$:"
   ]
  },
  {
   "cell_type": "code",
   "execution_count": 17,
   "id": "5b8da33f",
   "metadata": {},
   "outputs": [],
   "source": [
    "def v_star(y, α, β, μ):\n",
    "    \"\"\"\n",
    "    Theoretic value function\n",
    "    \"\"\"\n",
    "    c1 = np.log(1 - α * β) / (1 - β)\n",
    "    c2 = (μ + α * np.log(α * β)) / (1 - α)\n",
    "    c3 = 1 / (1 - β)\n",
    "    c4 = 1 / (1 - α * β)\n",
    "    return c1 + c2 * (c3 - c4) + c4 * np.log(y)\n",
    "\n",
    "def σ_star(y, α, β):\n",
    "    \"\"\"\n",
    "    Theoretic optimal policy\n",
    "    \"\"\"\n",
    "    return (1 - α * β) * y"
   ]
  },
  {
   "cell_type": "code",
   "execution_count": 18,
   "id": "3f0dabae",
   "metadata": {},
   "outputs": [
    {
     "data": {
      "image/png": "[encoded data removed]",
      "text/plain": [
       "<Figure size 576x396 with 1 Axes>"
      ]
     },
     "metadata": {
      "needs_background": "light"
     },
     "output_type": "display_data"
    }
   ],
   "source": [
    "α = 0.4\n",
    "def fcd(k):\n",
    "    return k**α\n",
    "\n",
    "og = VFI_growth_model_stochastic(u= np.log, f= fcd)\n",
    "\n",
    "grid = og.grid\n",
    "\n",
    "v_theoretical = v_star(grid, α, og.β, og.μ)    # Start from our theoric value function values\n",
    "Tv_theoretical, v = og.T(v_theoretical)             # Apply T once\n",
    "\n",
    "fig, ax = plt.subplots()\n",
    "ax.set_ylim(-35, -24)\n",
    "ax.plot(grid, v_theoretical, lw=2, alpha=0.6, label='$V^*$')\n",
    "ax.plot(grid, Tv_theoretical, lw=2, alpha=0.6, label='$TV^*$')\n",
    "ax.legend()\n",
    "plt.show()"
   ]
  },
  {
   "cell_type": "markdown",
   "id": "9c32fc77",
   "metadata": {},
   "source": [
    "As we can see, $TV^* = V^*$ so indeed our theoretic value function is the unique fixed point of the Bellmann equation.\n",
    "\n"
   ]
  },
  {
   "cell_type": "markdown",
   "id": "7fc06d90",
   "metadata": {},
   "source": [
    "## 1.2.2) $\\rho \\not = 0$ case:\n",
    "\n",
    "If we look at our AR(1) process, it is:\n",
    "\n",
    "$$z_{t+1} = z^{\\rho}_t + exp(\\epsilon_{t+1})$$\n",
    "\n",
    "But as you can see, it is a non-linear AR(1) process. What should we do?\n",
    "\n",
    "Answer: Instead of tracking z's, track $\\hat{z} = log(z)$'s! Then, when we want to use $\\hat{z}$ in our production function, just take exponential of $\\hat{z}$. So, we have: \n",
    "\n",
    "$$\\hat{z}_{t+1} = \\rho \\hat{z}_t + \\epsilon_{t+1} \\;\\;\\;\\; \\epsilon \\sim N(0,\\sigma^2_{\\epsilon})$$\n",
    "\n",
    "Now, we need to find a **stationary Markov transition matrix $Q((z,k), z')$** which takes current period productivity and capital as input, and gives probability distribution of next period's productivity\n",
    "\n",
    "Now, let N be the grid size of z and M be the grid size of shocks. Then Q would be MxNxN matrix. But for simplicity, take M = N to have NxNxN transition matrix Q. \n",
    "\n",
    "Another thing is that, when we make grid of shocks and productivity z's, then next period z' will lie in the same grid that we used for z's. Which means we can use 2d NxN matrix for transition matrix. We are going to use `qe.markov` to construct this Stationary Markov Process.\n",
    "\n",
    "$Q((z,s),z')$: Probability of next period's factor is z', given z,s today.\n",
    "\n",
    "We'll use `qe.markov.approximation.rouwenhorst` method to **discretize Gaussian linear AR(1) processes** in form $y_t = \\bar{y} + \\rho y_{t-1} + \\varepsilon_t$ via Rouwenhorst's method. \n",
    "\n",
    "\n",
    "\n",
    "Note that now, the value function will be a NxN matrix as well. "
   ]
  },
  {
   "cell_type": "markdown",
   "id": "f41ff1c8",
   "metadata": {},
   "source": [
    "Again, let's list the inputs (parameters) of the problem:\n",
    "\n",
    "- grid_size: To make Matrix of shocks and productivity\n",
    "- $z_0$: initial productivity\n",
    "- $\\sigma$: standard deviation of shocks\n",
    "- $\\theta$: production parameter\n",
    "- $\\rho$: AR(1) parameter\n",
    "- $\\beta$: Time discounting"
   ]
  },
  {
   "cell_type": "code",
   "execution_count": 1,
   "id": "075e7940",
   "metadata": {},
   "outputs": [],
   "source": [
    "class VFI_stochastic_2:\n",
    "    def __init__(self, p=0.9, capital_grid=100, shock_grid=25, z_0=0, var=0.01, θ=0.7, \n",
    "                 β=0.98, ϵ=10e-5, max_iter = 1000):\n",
    "        self.p = p                                                       #\\rho in AR(1) process in technology\n",
    "        self.β = β                                                       #discount factor\n",
    "        self.θ = θ                                                       #capital share\n",
    "        self.shock_grid = shock_grid                                     #Grid size for shocks\n",
    "        self.capital_grid = capital_grid                                 #Capital stock grid size\n",
    "        self.z_0 = z_0                                                   #Initial technology parameter\n",
    "        self.ϵ = ϵ                                                       #Tolerance level for convergence\n",
    "        self.max_iter = max_iter                                         #Maximum iteration\n",
    "        self.iterations = 0                                              #Iteration number of the VFI process\n",
    "\n",
    "        self.V = np.zeros((shock_grid, capital_grid))                    #Initial V(Z,K)\n",
    "        self.TV = np.ones((shock_grid, capital_grid))                    #Initial TV(Z,K)\n",
    "\n",
    "        self.Markov = qe.markov.approximation.rouwenhorst(shock_grid, z_0, var, p) #Discretized Gaus linear AR(1)\n",
    "        self.Π = self.Markov.P                                           #Transition Matrix of the process\n",
    "        self.Z = np.exp(self.Markov.state_values)                        #Transform \\hat{z} = log(z) to real z\n",
    "\n",
    "        self.K_max = max(self.Z)**(1/(1-θ))                              #Max capital stock\n",
    "        self.K = np.linspace(0.001, self.K_max, capital_grid)            #Capital stock grid\n",
    "\n",
    "    def Utility(self, x):\n",
    "        return np.log(x)\n",
    "\n",
    "    def update(self):\n",
    "        shock_grid, capital_grid, K, Π, θ, β, Z = self.shock_grid, self.capital_grid, self.K, self.Π, self.θ, self.β, self.Z\n",
    "        self.V = np.copy(self.TV)\n",
    "        for s in range(shock_grid):\n",
    "            for k in range(capital_grid):\n",
    "                self.TV[s,k] = np.nanmax(self.Utility(Z[s] * K[k]**θ - K) + β * np.matmul(Π[s, :], self.V))\n",
    "        \n",
    "    \n",
    "    def error(self):\n",
    "        TV, V = self.TV, self.V\n",
    "        return np.nanmax(np.abs(TV-V))\n",
    "\n",
    "    def VFI(self):\n",
    "        while self.iterations < self.max_iter and self.error() > self.ϵ:\n",
    "            self.update()\n",
    "            self.iterations += 1\n",
    "        \n",
    "        if self.iterations < self.max_iter:\n",
    "            print('Solution has been found!!!!!')\n",
    "        else:\n",
    "            print('Not today :(')\n",
    "\n",
    "    def plot(self, z):\n",
    "        fig, ax = plt.subplots()\n",
    "        ax.plot(self.K[(self.K > 0.1)], self.TV[z,(self.K > 0.1)], 'r-', linewidth=2, label='Value function', alpha=0.6)\n",
    "        plt.title('z=' + str(self.Z[z]))\n",
    "        plt.xlabel('K')\n",
    "        plt.ylabel('V(z,k)')\n",
    "        plt.show()\n",
    "        \n",
    "\n",
    "    def __call__(self):\n",
    "        self.VFI()\n",
    "        return self.TV, self.error(), self.iterations, self.Z, self.K"
   ]
  },
  {
   "cell_type": "code",
   "execution_count": 4,
   "id": "89606c2f",
   "metadata": {},
   "outputs": [
    {
     "name": "stdout",
     "output_type": "stream",
     "text": [
      "Solution has been found!!!!!\n",
      "The error is: 9.89188840208044e-05\n"
     ]
    }
   ],
   "source": [
    "VFI_model = VFI_stochastic_2()\n",
    "\n",
    "VFI_model.VFI()\n",
    "\n",
    "print(\"The error is: \" + str(VFI_model.error()))"
   ]
  },
  {
   "cell_type": "code",
   "execution_count": 5,
   "id": "61ed85ee",
   "metadata": {},
   "outputs": [
    {
     "data": {
      "image/png": "[encoded data removed]",
      "text/plain": [
       "<Figure size 576x396 with 1 Axes>"
      ]
     },
     "metadata": {
      "needs_background": "light"
     },
     "output_type": "display_data"
    }
   ],
   "source": [
    "VFI_model.plot(20)"
   ]
  },
  {
   "cell_type": "markdown",
   "id": "495c54b1",
   "metadata": {},
   "source": [
    "# 2.1) LQ Model\n",
    "\n",
    "Note: To be able to solve the LQ model, I used Marimon and Scott's \"Computational Methods for the Study of Dynamic Economies\" book.\n",
    "\n",
    "LQ approximation is reasonable when the following conditions are met:\n",
    "\n",
    "- The deterministic version of the model converges to stable steady state.\n",
    "- Linear Law of motion of the state variables.\n",
    "\n",
    "A typical LQ problem can be written as: \n",
    "\n",
    "$$V(z,s) = \\max_{d}\\{r(z,s,d) + \\beta \\; \\mathbb{E}[V(z',s')|z]\\}$$\n",
    "\n",
    "$$s.t. \\;\\;\\; s' = A(z,s,d), \\;\\; z' = L(z) + \\epsilon', \\;\\; \\epsilon \\sim N(0,\\sigma)$$\n",
    "\n",
    "where:\n",
    "\n",
    "- z: $n_z$x$1$ vector of **exogenous state variables**\n",
    "\n",
    "- s: $n_s$x$1$ vector of **endogenous state variables**\n",
    "\n",
    "- d: $n_d$x$1$ vector of **control variables**\n",
    "\n",
    "- $\\epsilon$: $n_{\\epsilon}x1$ vector of **shocks** with zero mean and finite variance\n",
    "\n",
    "- r: return function\n",
    "\n",
    "- A,L: Linear law of motions of state variables"
   ]
  },
  {
   "cell_type": "markdown",
   "id": "e05774cd",
   "metadata": {},
   "source": [
    "A general solution algorithm for LQ problems is:\n",
    "\n",
    "1. Choose a point about which to expand the return function. In most cases, it is the steady state point of the deterministic version of the model: $(\\bar{z},\\bar{s}, \\bar{d})$, that we obtain when we substitute the random variables with their unconditional means.\n",
    "\n",
    "2. Construct a quadratic approximation of $r(z,s,d)$ about $(\\bar{z},\\bar{s}, \\bar{d})$.\n",
    "\n",
    "3. Compute optimal value function $V^*(z,s)$ by succesive iterations on Bellman operator:\n",
    "\n",
    "    $$V_{n+1}(z,s) = T[V_n(z,s)] = \\max_{d}\\{r(z,s,d) + \\beta \\; \\mathbb{E}[V_n(z',s')|z]\\}$$\n",
    "\n",
    "\n",
    "### Step 1: Computing $(\\bar{z},\\bar{s}, \\bar{d})$"
   ]
  },
  {
   "cell_type": "markdown",
   "id": "e3bd64f6",
   "metadata": {},
   "source": [
    "In our problem:\n",
    "\n",
    "- z: z (technology)\n",
    "- s: k (current capital stock)\n",
    "- d: x (investment) [or k' since there is full depreciation]\n",
    "- r(z,k,x): $log(e^{z}k^{\\alpha} - x)$\n",
    "- A(z,k,x): x\n",
    "- L(z): $\\rho z $ so that the law of motion of technology: $\\rho z + \\epsilon' = z'$\n",
    "\n",
    "\n",
    "First, we are going to take log of z, k, x and denote them with hats:\n",
    "\n",
    "$$\\hat{z} = log(z),\\;\\; \\hat{k} = log(k), \\;\\; \\hat{x} = log(x)$$\n",
    "\n",
    "The reason we are doing this is to make law of motion being linear."
   ]
  },
  {
   "cell_type": "markdown",
   "id": "23e9544d",
   "metadata": {},
   "source": [
    "To compute the deterministic steady state, we substitute shocks by their unconditional mean: $\\epsilon_{t+1} = 0$. So, since $\\rho < 1$, in limit, $\\lim_{t -> \\infty} \\hat{z}_t = 0$. So in steady state it should be:\n",
    " $$\\large\\bar{\\hat{z}} = 0 \\rightarrow \\bar{z} = 1$$\n",
    "\n",
    "Now lets write the deterministic version of the problem to find its steady state:\n",
    "\n",
    "$$\\max_{c_t, k_{t+1}}\\sum \\beta^t log(c_t)$$\n",
    "$$s.t. \\;\\;\\; c_t + x_t = k_t^\\alpha, \\;\\;\\; k_{t+1} = x_t\\;\\; c_t,k_{t+1}\\geq 0,\\;\\; k_0 \\;given$$"
   ]
  },
  {
   "cell_type": "markdown",
   "id": "c73c8cde",
   "metadata": {},
   "source": [
    "From its FOC's we have:\n",
    "\n",
    "$$\\frac{c_{t+1}}{c_t} = \\beta[\\alpha k_{t+1}^{\\alpha-1}]$$\n",
    "\n",
    "In steady state,$\\frac{c_{t+1}}{c_t}= 1$. So we have:\n",
    "\n",
    "$$\\bar{k} = [\\alpha \\beta]^{\\frac{1}{1-\\alpha}}$$\n",
    "\n",
    "$$\\bar{x} = \\bar{k}$$\n",
    "\n",
    "So, our steady state that we are going to expand the return function is: \n",
    "$$\\large(\\bar{\\hat{z}},\\bar{\\hat{k}}, \\bar{\\hat{x}}) = (0,log([\\alpha \\beta]^{\\frac{1}{1-\\alpha}}),log([\\alpha \\beta]^{\\frac{1}{1-\\alpha}}))$$"
   ]
  },
  {
   "cell_type": "markdown",
   "id": "ee7c3170",
   "metadata": {},
   "source": [
    "### Step 2: Constructing the quadratic approximation of the return function\n",
    "\n",
    "We will use **2nd order Taylor approximation** to make r(z,s,d) our return function quadratic:\n",
    "\n",
    "$$r(z,s,d) \\simeq \\bar{R} + (W-\\bar{W})^T\\bar{J} + \\dfrac{1}{2}(W-\\bar{W})^T\\bar{H}(W-\\bar{W})$$\n",
    "\n",
    "where:\n",
    "\n",
    "- $W$: $[z,s,d]^T$, vector of ordered state and control variables\n",
    "\n",
    "- $\\bar{W}$: $[\\bar{z},\\bar{s},\\bar{d}]$, steady state values\n",
    "\n",
    "- $\\bar{R}$: $r(\\bar{z},\\bar{s},\\bar{d})$ (i.e. return value evaluated at the steady state)\n",
    "\n",
    "- $\\bar{J}$: $[\\bar{J}_z, \\bar{J}_s, \\bar{J}_d]^T$(i.e. **Jacobian** evaluated at the steady state) \n",
    "\n",
    "- $\\bar{H}$: **Hessian** evaluated at the steady state:\n",
    "\n",
    "$$\\bar{H} = \\begin{bmatrix} \\bar{H}_{\\bar{z}\\bar{z}} & \\bar{H}_{\\bar{z}\\bar{s}} & \\bar{H}_{\\bar{z}\\bar{d}} \\\\ \\bar{H}_{\\bar{s}\\bar{z}} & \\bar{H}_{\\bar{s}\\bar{s}} & \\bar{H}_{\\bar{s}\\bar{d}} \\\\ \\bar{H}_{\\bar{d}\\bar{z}} & \\bar{H}_{\\bar{d}\\bar{s}} & \\bar{H}_{\\bar{d}\\bar{d}} \\end{bmatrix}$$\n",
    "\n",
    "The Taylor approximation can be written as:\n",
    "\n",
    "$$r(z,s,d) \\simeq (\\bar{R} - \\bar{W}^T\\bar{J} + \\dfrac{1}{2}\\bar{W}^T\\bar{H}\\bar{W}) + W^T(\\bar{J}-\\bar{H}\\bar{W}) + \\dfrac{1}{2}W^T\\bar{H}W$$\n",
    "\n",
    "And this equation can be written in **quadratic form** as:\n",
    "\n",
    "$$r(z,s,d) \\simeq \\begin{bmatrix}1 & W^T\\end{bmatrix}\\begin{bmatrix}Q_{11} & Q_{12}^T \\\\ Q_{12} & Q_{22}\\end{bmatrix} \\begin{bmatrix}1\\\\ W\\end{bmatrix} \\;\\;\\; \\equiv \\;\\;\\; \\begin{bmatrix}1 & W^T\\end{bmatrix}Q\\begin{bmatrix}1 \\\\ W \\end{bmatrix}$$ \n",
    "\n",
    "where:\n",
    "\n",
    "- $Q_{11} = \\bar{R} - \\bar{W}^T\\bar{J} + \\dfrac{1}{2}\\bar{W}^T\\bar{H}\\bar{W}$\n",
    "\n",
    "\n",
    "- $Q_{12} = \\dfrac{1}{2}(\\bar{J} - \\bar{H}\\bar{W})$\n",
    "\n",
    "\n",
    "- $Q_{22} = \\dfrac{1}{2}\\bar{H}$\n",
    "\n",
    "Here, the role of 1 is to select the constant term of the quadratic expression.\n",
    "\n",
    "Dimension of Q is $n_z + n_s + n_d + 1$"
   ]
  },
  {
   "cell_type": "markdown",
   "id": "cc48589e",
   "metadata": {},
   "source": [
    "### Step 3: Computing the Optimal Value Function\n",
    "\n",
    "Bellman operator is:\n",
    "\n",
    "$$V_{n+1}(z,s) = \\max_{d}\\{[1\\, W^T]\\,Q\\,[1\\, W]^T + \\beta\\; \\mathbb{E}[V_n(z',s')|z]\\}$$\n",
    "$$s.t. \\;\\;\\; s' = A(z,s,d),\\;\\; z'=L(z) + \\epsilon'$$\n",
    "\n",
    "The initial guess should be a quadratic and concave function $ V_n = F^TP_nF$ where $\\large F=[1,z,s]^T$, $P_n$ is summetric and negative semidefinite matrix with dimension $1+n_z + n_s$\n",
    "\n",
    "Note that any square matrix with dimension $(1+n_z + n_s)$x$(1+n_z + n_s)$ with very small negative numbers on the diagonal and zeros anywhere else would satisfy $P_n$'s necessary conditions.\n",
    "\n",
    "\n",
    "We will use **Certainity Equivalence Principle**, because in genereal operating with expectation is a hard thing to do. Note that certainity equivalence principle holds only when the objective function is quadratic and the constraints are linear.\n",
    "\n",
    "By certainity equivalence, the covariance matrix of the vector of random variables $\\Sigma = CC' = 0$ , so our Bellmann operator becomes:\n",
    "\n",
    "$$V_{n+1} = \\max_{d}\\{[1\\, W^T]\\,Q\\,[1\\, W]^T + \\beta\\; (F')^TP_n(F')\\}$$\n",
    "$$s.t. \\;\\;\\; s' = A(z,s,d),\\;\\; z' = L(z)$$"
   ]
  },
  {
   "cell_type": "markdown",
   "id": "7441991a",
   "metadata": {},
   "source": [
    "Next step is to transform this Bellmann operator as a quadratic function of $[1 W]^T$. To do this, we use constraints A, L to substitute the forwarded values of the states out of our Bellmann operator.\n",
    "\n",
    "Specifically, we need to find a rectangular matrix B (a matrix of linear constraints) of dimension $(1 + n_z + n_s)$x$(1 + n_z + n_s + n_d)$ which satisfies:\n",
    "\n",
    "$$F' = B[1 W]^T$$\n",
    "\n",
    "(i.e. $B [1 \\; W]^T$ is the law of motion of state variable $F = [1, z, s]^T$)\n",
    "\n",
    "In our model, the B is:\n",
    "\n",
    "$$B = \\begin{bmatrix}1 & 0 & 0 & 0 \\\\ 0 & \\rho & 0 & 0 \\\\ 0 & 0 & 0 & 1\\end{bmatrix}$$\n",
    "\n",
    "After finding B, we substitute F' in Bellmann operator with $B[1 W]^T$ and we get\n",
    "\n",
    "$$V_{n+1} = \\max_{d}\\{[1\\, W^T]\\,Q\\,[1\\, W]^T + \\beta\\; [1 W^T]B^TP_nB[1 W^T]^T\\}$$\n",
    "\n",
    "Notice that we get rid of the constraints by introducing B. (we incorporated them into the objective function)\n",
    "\n",
    "As you can see the objective function is now a quadratic function of $[1 W]^T$:\n",
    "\n",
    "$$V_{n+1} = \\max_{d}\\{[1\\, W^T]\\,(Q + \\beta\\; B^TP_nB)[1 W^T]^T\\}$$"
   ]
  },
  {
   "cell_type": "markdown",
   "id": "9a801c5f",
   "metadata": {},
   "source": [
    "Next step is to differentiate this new Bellmann operator to obtatin decision rules $d_n(z,s)$.(i.e. solve the maximization problem on RHS)\n",
    "\n",
    "Note that since the objective function is quadratic, the FOC's will be linear in $(z,s)$.\n",
    "\n",
    "To make the calculations easier we are going to seperate state variable and control variable calculations by making partitions. First, define a partition of Q:\n",
    "\n",
    "$$Q = \\begin{bmatrix}\\hat{Q}_{FF} & \\hat{Q}_{Fd}^T \\\\ \\hat{Q}_{Fd} & \\hat{Q}_{dd}\\end{bmatrix}$$\n",
    "\n",
    "and define:\n",
    "\n",
    "$$M_n = B^TP_nB \\;\\;\\;\\;\\;\\;\\; M_n = \\begin{bmatrix}M^n_{FF} & (M^n_{Fd})^T \\\\ M^n_{Fd} & M^n_{dd}\\end{bmatrix}$$\n",
    "\n",
    "Note that $Q_{FF}$... is not necessarily equal to $Q_{11}$... We define this new partition just to simplify the algebra. However, in our model, they are going to coincide.\n",
    "\n",
    "Here:\n",
    "\n",
    "- $Q_{FF}$ and $M^n_{FF}$: Symmetric matrices of dimension $(1+n_z + n_s)$x$(1+n_z + n_s)$\n",
    "- $Q_{Fd}$ and $M^n_{Fd}$: Symmetric matrices of dimension $n_d$x$n_d$\n",
    "- $Q_{FF}$ and $M^n_{FF}$: Rectangular matrices of dimension $n_d$x$(1+n_z + n_s)$"
   ]
  },
  {
   "cell_type": "markdown",
   "id": "2fb4cf92",
   "metadata": {},
   "source": [
    "Substituting this partitions into our Bellmann operator, it becomes: (remember $[1 W]^T = [F d]^T$)\n",
    "\n",
    "$$V_{n+1} = \\max_{d} \\begin{bmatrix} F^T & d^T\\end{bmatrix} \\begin{bmatrix} Q_{FF} + \\beta M^n_{FF} & Q_{Fd}^T + \\beta (M^n_{Fd})^T \\\\ Q_{Fd} + \\beta M^n_{Fd} & Q_{dd} + \\beta M^n_{dd}\\end{bmatrix} \\begin{bmatrix} F\\\\ d \\end{bmatrix}$$\n",
    "\n",
    "This can be rewritten as:\n",
    "\n",
    "$$V_{n+1} = \\max_{d} F^T [Q_{FF} + \\beta M_{FF}^n]F + 2d^T[Q_{Fd} + \\beta M_{Fd}^n]F + d^T[Q_{dd} + \\beta M_{dd}^n]d$$\n",
    "\n",
    "\n",
    "The RHS is a maximization problem with respect to d. So differentiate RHS with respect to $d^T$ (use matrix differentiation tactics):\n",
    "\n",
    "$$2 [Q_{Fd} + \\beta M_{Fd}^n] F + 2 [Q_{dd} + \\beta M_{dd}^n]d = 0$$\n",
    "\n",
    "\n",
    "\n",
    "Thus, the optimal policy function is:\n",
    "\n",
    "$$\\large d_n(z,s) = -(Q_{dd} + \\beta M_{dd}^n)^{-1}(Q_{Fd} + \\beta M_{Fd}^n)F \\;\\; \\equiv \\;\\; G_n^TF$$"
   ]
  },
  {
   "cell_type": "markdown",
   "id": "30e9fc9e",
   "metadata": {},
   "source": [
    "Define:\n",
    "\n",
    "$$P_{n+1} = Q_{FF} + \\beta M_{FF}^n - (Q_{Fd} + \\beta M_{Fd}^n)^T(Q_{dd} + \\beta M_{dd}^n)^{-1}(Q_{Fd} + \\beta M_{Fd}^n)$$\n",
    "\n",
    "Then:\n",
    "\n",
    "$$V_{n+1} = F^TP_{n+1}F$$\n",
    "\n",
    "We will do the vlaue function iteration until $P_n = P_{n+1}$\n"
   ]
  },
  {
   "cell_type": "code",
   "execution_count": 4,
   "id": "55fefac4",
   "metadata": {},
   "outputs": [],
   "source": [
    "class Derivatives_at_SS:\n",
    "    \"\"\"This class is for generating Jacobian and Hessian matrix numerically at the steady state\"\"\"\n",
    "\n",
    "    def __init__(self, f, z, s, d):\n",
    "        self.f = f                 #Objective function\n",
    "        self.z = z                 #Steady state value of z\n",
    "        self.s = s                 #Steady state value of s\n",
    "        self.d = d                 #Steady state value of d\n",
    "    \n",
    "    def Δz(self):\n",
    "        f, z, s, d = self.f , self.z, self.s, self.d \n",
    "        Δ = max(10e-8,abs(z)*10e-4)\n",
    "        return (f(z+Δ,s,d) - f(z,s,d))/ Δ\n",
    "\n",
    "    def Δs(self):\n",
    "        f, z, s, d = self.f , self.z, self.s, self.d \n",
    "        Δ = max(10e-8,abs(s)*10e-4)\n",
    "        return (f(z,s+Δ,d) - f(z,s,d))/ Δ\n",
    "\n",
    "    def Δd(self):\n",
    "        f, z, s, d = self.f , self.z, self.s, self.d \n",
    "        Δ = max(10e-8,abs(d)*10e-4)\n",
    "        return (f(z,s,d+Δ) - f(z,s,d))/ Δ\n",
    "\n",
    "    def Δzz(self):\n",
    "        f, z, s, d = self.f , self.z, self.s, self.d \n",
    "        Δ = max(10e-8,abs(z)*10e-4)\n",
    "        μ = max(10e-8,abs(z)*10e-4)\n",
    "        derivative = (((f(z + Δ + μ, s, d) - f(z+μ,s,d))/Δ) - ((f(z+Δ, s, d) - f(z,s,d))/Δ))/μ\n",
    "        return derivative\n",
    "\n",
    "    def Δzs(self):\n",
    "        f, z, s, d = self.f , self.z, self.s, self.d \n",
    "        Δ = max(10e-8,abs(z)*10e-4)\n",
    "        μ = max(10e-8,abs(s)*10e-4)\n",
    "        derivative = (((f(z + Δ, s+μ, d) - f(z,s+μ,d))/Δ) - ((f(z+Δ, s, d) - f(z,s,d))/Δ))/μ\n",
    "        return derivative\n",
    "\n",
    "    def Δzd(self):\n",
    "        f, z, s, d = self.f , self.z, self.s, self.d \n",
    "        Δ = max(10e-8,abs(z)*10e-4)\n",
    "        μ = max(10e-8,abs(d)*10e-4)\n",
    "        derivative = (((f(z + Δ, s, d+μ) - f(z,s,d+μ))/Δ) - ((f(z+Δ, s, d) - f(z,s,d))/Δ))/μ\n",
    "        return derivative\n",
    "\n",
    "    def Δsd(self):\n",
    "        f, z, s, d = self.f , self.z, self.s, self.d \n",
    "        Δ = max(10e-8,abs(s)*10e-4)\n",
    "        μ = max(10e-8,abs(d)*10e-4)\n",
    "        derivative = (((f(z, s+Δ, d+μ) - f(z,s,d+μ))/Δ) - ((f(z, s+Δ, d) - f(z,s,d))/Δ))/μ\n",
    "        return derivative\n",
    "\n",
    "    def Δdd(self):\n",
    "        f, z, s, d = self.f , self.z, self.s, self.d \n",
    "        Δ = max(10e-8,abs(d)*10e-4)\n",
    "        μ = max(10e-8,abs(d)*10e-4)\n",
    "        derivative = (((f(z , s, d+ Δ + μ) - f(z,s,d+μ))/Δ) - ((f(z, s, d+Δ) - f(z,s,d))/Δ))/μ\n",
    "        return derivative\n",
    "\n",
    "    def Δss(self):\n",
    "        f, z, s, d = self.f , self.z, self.s, self.d \n",
    "        Δ = max(10e-8,abs(s)*10e-4)\n",
    "        μ = max(10e-8,abs(s)*10e-4)\n",
    "        derivative = (((f(z, s+Δ+μ, d) - f(z,s+μ,d))/Δ) - ((f(z, s+Δ, d) - f(z,s,d))/Δ))/μ\n",
    "        return derivative\n",
    "        \n",
    "    def Jacobian(self):\n",
    "        J = np.matrix([self.Δz(), self.Δs(), self.Δd()]).T #Jacobian at the steady state\n",
    "        return J\n",
    "\n",
    "    def Hessian(self):    \n",
    "        H = np.matrix([[self.Δzz(),self.Δzs(),self.Δzd()], #Hessian at the steady state\n",
    "               [self.Δzs(),self.Δss(),self.Δsd()],\n",
    "               [self.Δzd(),self.Δsd(),self.Δdd()]])\n",
    "        return H"
   ]
  },
  {
   "cell_type": "code",
   "execution_count": 44,
   "id": "96a85a3c",
   "metadata": {},
   "outputs": [],
   "source": [
    "class LQ:\n",
    "    \"\"\"Our LQ Model\"\"\"\n",
    "    def __init__(self, α=0.7, β=0.98, ρ=0.9, tol=10e-5, iterations=0, max_iter=10000):\n",
    "        self.α = α\n",
    "        self.β = β\n",
    "        self.ρ = ρ\n",
    "        self.tol = tol\n",
    "        self.iterations = iterations\n",
    "        self.max_iter = max_iter\n",
    "        \n",
    "        #Steady state values\n",
    "        self.Z = 0\n",
    "        self.S = np.log((α*β)**(1/(1-α)))\n",
    "        self.D = np.log((α*β)**(1/(1-α)))\n",
    "        \n",
    "    def R(self, z, s, d):                                                     #Return Function\n",
    "        return np.log(e**z * e**(self.α*s) - e**d)\n",
    "    \n",
    "    def derivatives(self):\n",
    "        self.H = Derivatives_at_SS(self.R, self.Z, self.S, self.D).Hessian()  #Hessian\n",
    "        self.J = Derivatives_at_SS(self.R, self.Z, self.S, self.D).Jacobian() #Jacobian\n",
    "        self.Return = self.R(self.Z, self.S, self.D)                          #Return at steady state\n",
    "        self.W_bar = np.matrix([self.Z, self.S, self.D]).T                    #Steady state values vector\n",
    "    \n",
    "    def Qanon(self):\n",
    "        \"\"\"Constructing Q Matrix\"\"\"\n",
    "        Q11 = self.Return - np.matmul(self.W_bar.T, self.J) + 0.5 * np.matmul(np.matmul(self.W_bar.T, self.H),self.W_bar)\n",
    "\n",
    "        Q12 = 0.5 * (self.J - np.matmul(self.H, self.W_bar))\n",
    "\n",
    "        Q22 = 0.5 * self.H\n",
    "\n",
    "        self.Q = np.matrix([[Q11.item(0), Q12.item((0,0)),Q12.item((1,0)),Q12.item((2,0))],\n",
    "                       [Q12.item((0,0)),Q22.item((0,0)),Q22.item((0,1)),Q22.item((0,2))],\n",
    "                       [Q12.item((1,0)),Q22.item((1,0)),Q22.item((1,1)),Q22.item((1,2))],\n",
    "                       [Q12.item((2,0)),Q22.item((2,0)),Q22.item((2,1)),Q22.item((2,2))]])\n",
    "        \n",
    "    def Opt_value_fun(self):\n",
    "        Q_array = np.asarray(self.Q)  #To be able to easily extract values from Q, we transformed it into np.array\n",
    "\n",
    "        self.Qff = np.asmatrix(Q_array[0:3, 0:3])  #Q_FF\n",
    "\n",
    "        self.Qfd = np.asmatrix(Q_array[3, 0:3])    #Q_Fd\n",
    "\n",
    "        self.Qdd = Q_array[3, 3]      #Q_dd\n",
    "\n",
    "        self.B = np.matrix([[1, 0, 0, 0],\n",
    "                            [0, self.ρ, 0, 0],\n",
    "                            [0, 0, 0, 1]])\n",
    "        \n",
    "        self.P_0 = np.matrix([[-0.1,0,0],          #Initial guess of value function\n",
    "                 [0,-0.1,0],\n",
    "                 [0,0,-0.1]])\n",
    "\n",
    "        self.P_1 = np.ones((3,3))                   #To be able to start iteration\n",
    "    \n",
    "    def VFI(self):\n",
    "        β = self.β\n",
    "        self.derivatives()\n",
    "        self.Qanon()\n",
    "        self.Opt_value_fun()\n",
    "        \n",
    "        while np.max(np.abs(self.P_1 - self.P_0) > self.tol) and self.iterations < self.max_iter:\n",
    "            self.P_1 = np.copy(self.P_0)\n",
    "            M = np.matmul(np.matmul(self.B.T,self.P_0),self.B)\n",
    "            Mff = np.matrix([[M.item((0,0)), M.item((0,1)), M.item((0,2))],\n",
    "                             [M.item((1,0)), M.item((1,1)), M.item((1,2))],\n",
    "                             [M.item((2,0)), M.item((2,1)), M.item((2,2))]])\n",
    "            Mfd = np.matrix([[M.item(3,0), M.item(3,1), M.item(3,2)]])\n",
    "            Mdd = M.item((3,3))\n",
    "            self.P_0 = self.Qff + β * Mff - 1/(self.Qdd + β*Mdd)*np.matmul((self.Qfd + β * Mfd).T, (self.Qfd + β * Mfd))\n",
    "            self.iterations += 1\n",
    "            \n",
    "        self.P = np.copy(self.P_1)\n",
    "        self.G = (-(self.Qdd + β * Mdd)**(-1)) * (self.Qfd + β * Mfd)\n",
    "        \n",
    "    def Graphics(self):\n",
    "        self.VFI()\n",
    "        fig, ax = plt.subplots()\n",
    "\n",
    "        x = np.linspace(0.1, 1.5, 200)     #Capitals\n",
    "        z = np.linspace(0.95, 1.05, 5)     #Technologies\n",
    "\n",
    "\n",
    "        for j in range(len(z)):\n",
    "            values = []\n",
    "            for i in range(len(x)):\n",
    "                v = np.matmul(np.matmul(np.matrix([1,np.log(z[j]),np.log(x[i])]), self.P), np.matrix([1,np.log(z[j]),np.log(x[i])]).T).item(0)\n",
    "                values.append(v)\n",
    "\n",
    "            ax.plot(x,values, '--', label=\"z =({})\".format(round(z[j],2)))\n",
    "            ax.set_xlabel('k')\n",
    "            ax.set_ylabel('V(z,k)')\n",
    "            ax.title.set_text('The graph of V(z,k)')\n",
    "            ax.legend() \n",
    "\n",
    "        plt.show()"
   ]
  },
  {
   "cell_type": "code",
   "execution_count": 45,
   "id": "b72d392e",
   "metadata": {},
   "outputs": [
    {
     "data": {
      "image/png": "[encoded data removed]",
      "text/plain": [
       "<Figure size 576x396 with 1 Axes>"
      ]
     },
     "metadata": {
      "needs_background": "light"
     },
     "output_type": "display_data"
    }
   ],
   "source": [
    "Model = LQ()\n",
    "Model.Graphics()"
   ]
  },
  {
   "cell_type": "markdown",
   "id": "7f08b7bb",
   "metadata": {},
   "source": [
    "# 2.2) Vaughan's Method\n",
    "\n",
    "Now, we used the following  quadratic return equation above:\n",
    "\n",
    "$$r(z,s,d) \\simeq \\begin{bmatrix}1 & W^T\\end{bmatrix}\\begin{bmatrix}Q_{11} & Q_{12}^T \\\\ Q_{12} & Q_{22}\\end{bmatrix} \\begin{bmatrix}1\\\\ W\\end{bmatrix} \\;\\;\\; \\equiv \\;\\;\\; \\begin{bmatrix}1 & W^T\\end{bmatrix}Q\\begin{bmatrix}1 \\\\ W \\end{bmatrix}$$ \n",
    "\n",
    "But this can be written in McGrattan (1990) way as follows:\n",
    "\n",
    "$$ r(z,s,d) \\equiv \\;\\; \\begin{bmatrix} F^T \\end{bmatrix} \\begin{bmatrix} Q_{FF} \\end{bmatrix} \\begin{bmatrix} F \\end{bmatrix} + d \\begin{bmatrix} Q_{dd} \\end{bmatrix}d + 2\\begin{bmatrix} F^T \\end{bmatrix} \\begin{bmatrix} Q_{Fd}^T \\end{bmatrix}d$$\n",
    "\n",
    "(Remember that F = [1,z,s], W=[z,s,d])\n",
    "\n",
    "And we also know that the law of motion is the following:\n",
    "\n",
    "$$\\begin{bmatrix} 1 \\\\ \\hat{z}_{t+1} \\\\ \\hat{k}_{t+1}\\end{bmatrix}  = \\begin{bmatrix} 1 & 0 & 0 \\\\ 0 & \\rho & 0 \\\\ 0 & 0 & 0\\end{bmatrix} \\begin{bmatrix} 1 \\\\ \\hat{z}_{t} \\\\ \\hat{k}_{t} \\end{bmatrix} + \\begin{bmatrix} 0 \\\\ 0 \\\\ 1 \\end{bmatrix} \\hat{x_t} + \\begin{bmatrix} 0 \\\\ 1 \\\\ 0 \\end{bmatrix}\\epsilon_{t+1}$$\n",
    "\n",
    "Here:\n",
    "\n",
    "- $\\mathbb{Q} = Q_{FF} = Q[0:3, 0:3]$ 3x3 matrix\n",
    "- $\\mathbb{R} = Q_{dd} = Q[3,3] \\;\\;\\;\\;\\;\\;\\;\\;\\;$      1x1 scalar   \n",
    "- $\\mathbb{W} = Q_{Fd}^T = Q[3, 0:3]^T \\;\\;$ 3x1 vector\n",
    "- $\\mathbb{A} = \\begin{bmatrix} 1 & 0 & 0 \\\\ 0 & \\rho & 0 \\\\ 0 & 0 & 0\\end{bmatrix}$\n",
    "- $\\mathbb{B} = \\begin{bmatrix} 0 \\\\ 0 \\\\ 1 \\end{bmatrix}$\n",
    "- $\\mathbb{C} = \\begin{bmatrix} 0 \\\\ 1 \\\\ 0 \\end{bmatrix}$\n",
    "\n",
    "\n",
    "\n",
    "\n"
   ]
  },
  {
   "cell_type": "markdown",
   "id": "b88ee1df",
   "metadata": {},
   "source": [
    "Now, since we know the A,B,C,R,Q,W; we can solve the Vaughan's method easily."
   ]
  },
  {
   "cell_type": "markdown",
   "id": "cbcf1d63",
   "metadata": {},
   "source": [
    "First, let's normalize everything to get rid of discount factor and cross product of state and control variables:\n",
    "\n",
    "$$\\tilde{X_t} = \\beta^{\\frac{t}{2}}X_t$$\n",
    "\n",
    "$$\\tilde{u_t} = \\beta^{\\frac{t}{2}}(u_t + R^{-1}W'X_t)$$\n",
    "\n",
    "$$\\tilde{A} = \\sqrt{\\beta} (A - BR^{-1}W')$$\n",
    "\n",
    "$$\\tilde{B} = \\sqrt{\\beta}B$$\n",
    "\n",
    "$$\\tilde{Q} = Q - WR^{-1}W'$$"
   ]
  },
  {
   "cell_type": "markdown",
   "id": "b5625f7c",
   "metadata": {},
   "source": [
    "Let's define now the following Hamiltonian Matrix:\n",
    "\n",
    "$$\\mathbb{H} = \\begin{bmatrix} \\tilde{A^{-1}}  & \\tilde{A^{-1}} \\tilde{B} R^{-1} \\tilde{B'}\\\\ \\tilde{Q}\\tilde{A^{-1}} & \\tilde{Q}\\tilde{A^{-1}}\\tilde{B} R^{-1} \\tilde{B'} + \\tilde{A'}\\end{bmatrix}$$\n",
    "\n",
    "and decompose it then order the eigenvalues such that first half of the eigenvalues exceed the unit root, and the second half is the reverse of the first half.\n",
    "\n",
    "\n",
    "Then, Vaughan says that $P = V_{21}V_{11}^{-1}$ and $F = \\dfrac{1}{(R + (\\tilde{B}' P \\tilde{B}))} (\\tilde{B}'P \\tilde{A}) +  R^{-1}W'$"
   ]
  },
  {
   "cell_type": "code",
   "execution_count": 5,
   "id": "a0b21daa",
   "metadata": {},
   "outputs": [],
   "source": [
    "class Vaughan:\n",
    "    def __init__(self, α=0.7, β=0.98, ρ=0.9):\n",
    "        self.α = α\n",
    "        self.β = β\n",
    "        self.ρ = ρ\n",
    "        \n",
    "        #Steady state values\n",
    "        self.Z = 0\n",
    "        self.S = np.log((α*β)**(1/(1-α)))\n",
    "        self.D = np.log((α*β)**(1/(1-α)))\n",
    "        \n",
    "    def R(self, z, s, d):                                                     #Return Function\n",
    "        return np.log(e**z * e**(self.α*s) - e**d)\n",
    "    \n",
    "    def derivatives(self):\n",
    "        \"\"\"Get Hessian and Jacobian to compute Q matrix of Marimon\"\"\"\n",
    "        self.H = Derivatives_at_SS(self.R, self.Z, self.S, self.D).Hessian()  #Hessian at steady state\n",
    "        self.J = Derivatives_at_SS(self.R, self.Z, self.S, self.D).Jacobian() #Jacobian at steady state\n",
    "        self.Return = self.R(self.Z, self.S, self.D)                          #Return at steady state\n",
    "        self.W_bar = np.matrix([self.Z, self.S, self.D]).T                    #Steady state values vector\n",
    "    \n",
    "    def Qanon(self):\n",
    "        \"\"\"Constructing Q Matrix of Marimon to find R,Q,W of Ellen\"\"\"\n",
    "        Q11 = self.Return - np.matmul(self.W_bar.T, self.J) + 0.5 * np.matmul(np.matmul(self.W_bar.T, self.H),self.W_bar)\n",
    "\n",
    "        Q12 = 0.5 * (self.J - np.matmul(self.H, self.W_bar))\n",
    "\n",
    "        Q22 = 0.5 * self.H\n",
    "\n",
    "        self.Q = np.array([[Q11.item(0), Q12.item((0,0)),Q12.item((1,0)),Q12.item((2,0))],\n",
    "                       [Q12.item((0,0)),Q22.item((0,0)),Q22.item((0,1)),Q22.item((0,2))],\n",
    "                       [Q12.item((1,0)),Q22.item((1,0)),Q22.item((1,1)),Q22.item((1,2))],\n",
    "                       [Q12.item((2,0)),Q22.item((2,0)),Q22.item((2,1)),Q22.item((2,2))]])\n",
    "        \n",
    "        \n",
    "    def ABC(self):\n",
    "        \"\"\"Defining A,B,C,R,Q,W\"\"\"\n",
    "        self.A_ellen = np.array([[1, 0, 0],\n",
    "                                 [0, self.ρ, 0],\n",
    "                                 [0, 0, 0]])\n",
    "\n",
    "        self.B_ellen = np.array([[0],[0],[1]])\n",
    "\n",
    "        self.C_ellen = np.array([[0],[1],[0]])\n",
    "\n",
    "        self.R_ellen = self.Q[3,3]\n",
    "\n",
    "        self.Q_ellen = self.Q[0:3, 0:3]\n",
    "\n",
    "        self.W_ellen = self.Q[3, 0:3]\n",
    "\n",
    "        self.W_ellen.resize((3,1))\n",
    "\n",
    "    def Normalize(self):\n",
    "        \"\"\"Normalizing\"\"\"\n",
    "        self.A_tilde = np.sqrt(self.β) * (self.A_ellen - (self.R_ellen **(-1))*(self.B_ellen @ self.W_ellen.T))\n",
    "\n",
    "        self.B_tilde = np.sqrt(self.β) * self.B_ellen\n",
    "\n",
    "        self.Q_tilde = self.Q_ellen - (self.R_ellen**(-1) * self.W_ellen @ self.W_ellen.T)\n",
    "    \n",
    "    def Hamilton(self):\n",
    "        \"\"\"Defining the Hamiltonian\"\"\"\n",
    "        A_tilde, B_tilde, Q_tilde = self.A_tilde, self.B_tilde, self.Q_tilde\n",
    "        \n",
    "        h11 = np.linalg.inv(self.A_tilde)\n",
    "        h12 = self.R_ellen**(-1) * np.linalg.inv(self.A_tilde)@ self.B_tilde @ self.B_tilde.T\n",
    "        h21 = self.Q_tilde @ np.linalg.inv(self.A_tilde)\n",
    "        h22 = self.R_ellen**(-1) * self.Q_tilde @ np.linalg.inv(self.A_tilde) @ self.B_tilde @ self.B_tilde.T + self.A_tilde.T\n",
    "\n",
    "        self.Hamiltonian = np.block([[h11,h12],[h21,h22]])\n",
    "        \n",
    "    def decomposition(self):\n",
    "        \"\"\"Decompose Hamiltonian matrix and order the eigenvalues and eigenvectors\"\"\"\n",
    "        h = self.Hamiltonian.shape[0] // 2        #Midpoint\n",
    "        \n",
    "        val, vec = np.linalg.eig(self.Hamiltonian)\n",
    "        \n",
    "        idx_sorted = np.argsort(val)[::-1]        #Order in descending order\n",
    "        idx_sorted[h:] = idx_sorted[h:][::-1]     #Reverse the order of the second half\n",
    "        \n",
    "        self.Λ, self.V = np.diag(val[idx_sorted]), vec[:,idx_sorted]\n",
    "    \n",
    "    def solving_P_and_F(self):\n",
    "        \"\"\"Get P and F\"\"\"\n",
    "        self.derivatives()\n",
    "        self.Qanon()\n",
    "        self.ABC()\n",
    "        self.Normalize()\n",
    "        self.Hamilton()\n",
    "        self.decomposition()\n",
    "        \n",
    "        h = self.Hamiltonian.shape[0] // 2\n",
    "        self.V11, self.V21 = self.V[0:h,0:h], self.V[h:,0:h]\n",
    "        \n",
    "        self.P = self.V21 @ np.linalg.inv(self.V11)\n",
    "        self.F = (1/(self.R_ellen + (self.B_tilde.T @ self.P @ self.B_tilde))) * (self.B_tilde.T @ self.P @ self.A_tilde)"
   ]
  },
  {
   "cell_type": "code",
   "execution_count": 6,
   "id": "87c759b0",
   "metadata": {},
   "outputs": [
    {
     "data": {
      "text/plain": [
       "array([[-9.91056911e+01,  1.34083610e+01,  1.10642859e+00],\n",
       "       [ 1.34083610e+01,  2.86299988e-01, -1.43597085e-04],\n",
       "       [ 1.10642859e+00, -1.43597085e-04, -5.13522829e-05]])"
      ]
     },
     "execution_count": 6,
     "metadata": {},
     "output_type": "execute_result"
    }
   ],
   "source": [
    "Model_Vaughan = Vaughan()\n",
    "Model_Vaughan.solving_P_and_F()\n",
    "Model_Vaughan.P"
   ]
  },
  {
   "cell_type": "code",
   "execution_count": 7,
   "id": "3eb3a86d",
   "metadata": {},
   "outputs": [],
   "source": [
    "z_model = np.resize(np.log(np.ones(100)), (100,1))\n",
    "\n",
    "s_model = np.resize((np.linspace(0.1, 1.5, 100)), (100,1))\n",
    "\n",
    "s_model_logged = np.resize(np.log(np.linspace(0.1, 1.5, 100)), (100,1))\n",
    "\n",
    "constant_model = np.resize(np.ones(100), (100,1))\n",
    "\n",
    "state_vars = np.concatenate([constant_model, z_model, s_model_logged], axis=1)\n"
   ]
  },
  {
   "cell_type": "code",
   "execution_count": 8,
   "id": "4b6d7c00",
   "metadata": {},
   "outputs": [],
   "source": [
    "values = []\n",
    "\n",
    "for i in range(z_model.shape[0]):\n",
    "    values.append(float(state_vars[i, :] @ Model_Vaughan.P @ state_vars[i, :].T))"
   ]
  },
  {
   "cell_type": "code",
   "execution_count": 9,
   "id": "dd3c7490",
   "metadata": {},
   "outputs": [
    {
     "data": {
      "image/png": "[encoded data removed]",
      "text/plain": [
       "<Figure size 576x396 with 1 Axes>"
      ]
     },
     "metadata": {
      "needs_background": "light"
     },
     "output_type": "display_data"
    }
   ],
   "source": [
    "fig, ax = plt.subplots()\n",
    "\n",
    "ax.plot(s_model, values)\n",
    "ax.set_xlabel('k')\n",
    "ax.set_ylabel('V(k)')\n",
    "ax.set_title('V(k) when z = 1')\n",
    "\n",
    "plt.show()"
   ]
  },
  {
   "cell_type": "markdown",
   "id": "35fc6512",
   "metadata": {},
   "source": [
    "As you can see, the results of LQ with ricatti and vaughan are identical."
   ]
  }
 ],
 "metadata": {
  "kernelspec": {
   "display_name": "Python 3 (ipykernel)",
   "language": "python",
   "name": "python3"
  },
  "language_info": {
   "codemirror_mode": {
    "name": "ipython",
    "version": 3
   },
   "file_extension": ".py",
   "mimetype": "text/x-python",
   "name": "python",
   "nbconvert_exporter": "python",
   "pygments_lexer": "ipython3",
   "version": "3.8.8"
  },
  "vscode": {
   "interpreter": {
    "hash": "4cb68feeda358cd999e6c5ea40a6d1740fd7be6f357c97f27cdc2dc32d902bae"
   }
  }
 },
 "nbformat": 4,
 "nbformat_minor": 5
}
